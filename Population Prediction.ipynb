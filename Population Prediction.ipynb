{
 "cells": [
  {
   "cell_type": "markdown",
   "metadata": {},
   "source": [
    "**Group Members**:\n",
    "\n",
    "Akshaykumar Vijay Thakare\n",
    "\n",
    "Hamza Kadodia\n",
    "\n",
    "Meenakshi Krishnakumar\n",
    "\n",
    "Parth Maheshbhai Patel\n",
    "\n",
    "Rami Dhungana K C\n",
    "\n",
    "Tharushika Jayawardena\n"
   ]
  },
  {
   "cell_type": "markdown",
   "metadata": {},
   "source": [
    "## **Header Documentation**"
   ]
  },
  {
   "cell_type": "markdown",
   "metadata": {},
   "source": [
    "\n",
    "**Introduction**:\n",
    "Population growth has been a significant concern for governments, organizations, and society for many years. As the world's population continues to grow at an unprecedented rate, there are far-reaching implications for the environment, economy, and social welfare.\n",
    "One of the potential solutions to address this problem is predicting population growth by gathering data on the current population and forecasting the expected growth in the coming years. This data can help governments, businesses, and other organizations to plan their policies, make informed decisions, allocate resources, and budget accordingly.\n",
    "However, predicting population growth is a complex and multifaceted problem that requires a comprehensive and coordinated effort from all stakeholders, including governments, civil society, and the private sector. Traditionally, population forecasting methods were based on empirical modeling, which is only appropriate for capturing simple linear relationships.\n",
    "In recent years, machine learning techniques have emerged as a powerful tool for predicting population growth. These techniques can handle complex and nonlinear relationships between demographic features, making them an ideal choice for predicting population growth rates.\n",
    "In this project, we aim to develop a machine learning model for predicting population growth rate using various demographic features such as human population, population density, life expectancy at birth, female life expectancy at birth, infant mortality rate, total fertility rate. We will compare the performance of different machine learning models and select the most accurate and effective one for this problem.\n",
    "\n",
    "**Objective:**\n",
    " Develop an accurate and efficient machine learning model for predicting population growth rate which can help governments, businesses, and other organizations make informed decisions and allocate resources effectively.\n",
    "\n",
    "**Strategy:**\n",
    "To achieve the goal of predicting population growth, we used the TPOT tool, which automates the machine learning pipeline and selects the best model based on the given data. We obtained demographic data from the United Nations database, which included seven demographic features of a given area. We performed exploratory data analysis (EDA) on the data and identified the most important features affecting population growth. We used regression methods to predict population growth and compared the accuracies of various machine learning models, including tree-based methods and neural networks.\n",
    "\n",
    "**Challenges:**\n",
    "•\tOne of the main challenges we faced in this project was the complexity of the problem of population growth. Predicting population growth requires a comprehensive understanding of demographic factors, which are interrelated and often influenced by various social, economic, and environmental factors.\n",
    "•\tData set used in this project is large, which requires high computation power.\n",
    "\n",
    "**Pipeline:**\n",
    "To construct the pipeline for predicting population growth, we followed the following steps:\n",
    "•\tObtain demographic data from reliable sources, such as the United Nations database.\n",
    "•\tPerform exploratory data analysis (EDA) to identify the most important features affecting population growth.\n",
    "•\tUse the TPOT tool to automate the machine learning pipeline and select the best model based on the given data.\n",
    "•   Trained data with increased generations and max_time_mins which resulted in a better performing model.\n",
    "•\tEvaluate the model's performance using metrics such as mean squared error, mean absolute error, and R-squared.\n",
    "•\tUse the model to predict future population growth.\n",
    "\n",
    "\n",
    "\n"
   ]
  },
  {
   "cell_type": "markdown",
   "metadata": {},
   "source": [
    "## **Problem Statement**"
   ]
  },
  {
   "cell_type": "markdown",
   "metadata": {},
   "source": [
    "Population overgrowth is a critical issue that has been affecting the world for many years.This increase in population has far-reaching implications for both the environment and society as a wholesuch as human welfare, making it more difficult to solve economic, social, and political problems.\n",
    "\n",
    "In order to address this problem, it is crucial to understand what are the other factors that contribute to overpopulation. One potential solution is that the countries can prepare themselves and gather the data of current population and predict that how much population will increse in upcoming years and basis on that, plan if they can foresee the future growth in population.\n",
    "\n",
    "**1) The Issue / Context**\n",
    "\n",
    "One of the major issues is unemployment. The areas where there is a high population density, the competition for jobs can be intense, leading to high unemployment rates.\n",
    "\n",
    "Furthermore, due to overpopulation more land is needed for agriculture, housing, and other human activities.It also affects other areas such as Resources,Healthcare and pollution(Climate change due to lot of people).\n",
    "\n",
    "**2) The Relevance**\n",
    "\n",
    "As a result, It becomes challenging for individuals with limited education or job skills, as they may struggle to find work in an crowded job market.\n",
    "\n",
    "Moreover if we talk about environment, more land is needed for agriculture, housing, and other human activities. This will lead to the destruction of forests and natural habitats, which can disrupt ecosystems and drive many species of plants and animals towards extinction.Lastly, With a growing population comes an increase in pollution like air pollution, water pollution, and soil pollution, which can all have negative impacts on the environment and the health of both humans and wildlife. So countries might be strugguling with these issues in the near future.\n",
    "\n",
    "**3) The Objective / Solution / Proposed Method**\n",
    "\n",
    "Upon research and from literature, the countries facing the challenge of overpopulation can leverage datasets and utilize machine learning algorithms to predict the increase in population for the coming years. We believe that if nations can foresee what is coming, they can plan and prepare accordingly. They can also plan resources and develop methodologies to reduce population growth in the first place if they know what impacts the growth.\n",
    "\n",
    "Hence, the solution that we are proposing is to predict the population/population growth of a region using the demographic details from open-source platforms like Kaggle, UCI ML repository, etc.\n",
    "\n",
    "Additionally, we would also analyse impact of each of the predictors. This would help in identifying the areas in which one needs to work on to tackle the problem at hand."
   ]
  },
  {
   "cell_type": "markdown",
   "metadata": {},
   "source": [
    "## **Python Code**"
   ]
  },
  {
   "cell_type": "markdown",
   "metadata": {
    "id": "PTKa687_Zi17"
   },
   "source": [
    "### **Library installations, imports & data read-in**"
   ]
  },
  {
   "cell_type": "code",
   "execution_count": null,
   "metadata": {
    "id": "pwYyBLoOYYJx"
   },
   "outputs": [],
   "source": [
    "# installing dependencies\n",
    "!sudo apt-get install build-essential swig\n",
    "!pip install TPOT\n",
    "!pip install dask==2021.6.2 dask-glm==0.2.0 dask-ml==1.0.0\n",
    "!pip install distributed==2021.6.2\n",
    "!pip install cloudpickle==1.5.0\n",
    "!pip install dask distributed --upgrade\n",
    "!pip install tornado==5.1.0\n",
    "!pip install xgboost==1.1.0\n",
    "!pip install pipelineprofiler"
   ]
  },
  {
   "cell_type": "code",
   "execution_count": 1,
   "metadata": {
    "id": "m5jPOHatYYOI"
   },
   "outputs": [],
   "source": [
    "# import basic libraries\n",
    "import pandas as pd\n",
    "import numpy as np\n",
    "import matplotlib.pyplot as plt\n",
    "import seaborn as sns\n",
    "import warnings\n",
    "\n",
    "warnings.filterwarnings('ignore')"
   ]
  },
  {
   "cell_type": "code",
   "execution_count": 2,
   "metadata": {
    "id": "YzyyTzGXYYQc"
   },
   "outputs": [],
   "source": [
    "# importing libraries for training\n",
    "from sklearn.model_selection import RepeatedKFold\n",
    "from tpot import TPOTRegressor"
   ]
  },
  {
   "cell_type": "code",
   "execution_count": 3,
   "metadata": {
    "colab": {
     "base_uri": "https://localhost:8080/",
     "height": 267
    },
    "id": "OcOSjxfzYYSp",
    "outputId": "82d0a367-2264-4664-9452-a8587e18f8b6"
   },
   "outputs": [
    {
     "data": {
      "text/html": [
       "\n",
       "  <div id=\"df-b7b3ab47-5ac0-4a52-963d-927cbbfa283e\">\n",
       "    <div class=\"colab-df-container\">\n",
       "      <div>\n",
       "<style scoped>\n",
       "    .dataframe tbody tr th:only-of-type {\n",
       "        vertical-align: middle;\n",
       "    }\n",
       "\n",
       "    .dataframe tbody tr th {\n",
       "        vertical-align: top;\n",
       "    }\n",
       "\n",
       "    .dataframe thead th {\n",
       "        text-align: right;\n",
       "    }\n",
       "</style>\n",
       "<table border=\"1\" class=\"dataframe\">\n",
       "  <thead>\n",
       "    <tr style=\"text-align: right;\">\n",
       "      <th></th>\n",
       "      <th>Row</th>\n",
       "      <th>FIPS</th>\n",
       "      <th>GENC</th>\n",
       "      <th>Country/Area Name</th>\n",
       "      <th>Year</th>\n",
       "      <th>Population</th>\n",
       "      <th>Annual Growth Rate %</th>\n",
       "      <th>Area (sq km)</th>\n",
       "      <th>Density (per sq km)</th>\n",
       "      <th>Total Fertility Rate</th>\n",
       "      <th>Life Expectancy at Birth</th>\n",
       "      <th>Under-5 Mortality Rate</th>\n",
       "    </tr>\n",
       "  </thead>\n",
       "  <tbody>\n",
       "    <tr>\n",
       "      <th>0</th>\n",
       "      <td>1</td>\n",
       "      <td>AF</td>\n",
       "      <td>AF</td>\n",
       "      <td>Afghanistan</td>\n",
       "      <td>2015</td>\n",
       "      <td>32547550</td>\n",
       "      <td>2.306</td>\n",
       "      <td>652230</td>\n",
       "      <td>49.9</td>\n",
       "      <td>5.326</td>\n",
       "      <td>50.87</td>\n",
       "      <td>174.77</td>\n",
       "    </tr>\n",
       "    <tr>\n",
       "      <th>1</th>\n",
       "      <td>2</td>\n",
       "      <td>AF</td>\n",
       "      <td>AF</td>\n",
       "      <td>Afghanistan</td>\n",
       "      <td>2016</td>\n",
       "      <td>33310667</td>\n",
       "      <td>2.329</td>\n",
       "      <td>652230</td>\n",
       "      <td>51.1</td>\n",
       "      <td>5.220</td>\n",
       "      <td>51.27</td>\n",
       "      <td>171.72</td>\n",
       "    </tr>\n",
       "    <tr>\n",
       "      <th>2</th>\n",
       "      <td>3</td>\n",
       "      <td>AF</td>\n",
       "      <td>AF</td>\n",
       "      <td>Afghanistan</td>\n",
       "      <td>2017</td>\n",
       "      <td>34097944</td>\n",
       "      <td>2.343</td>\n",
       "      <td>652230</td>\n",
       "      <td>52.3</td>\n",
       "      <td>5.120</td>\n",
       "      <td>51.67</td>\n",
       "      <td>168.71</td>\n",
       "    </tr>\n",
       "    <tr>\n",
       "      <th>3</th>\n",
       "      <td>4</td>\n",
       "      <td>AF</td>\n",
       "      <td>AF</td>\n",
       "      <td>Afghanistan</td>\n",
       "      <td>2018</td>\n",
       "      <td>34907481</td>\n",
       "      <td>2.350</td>\n",
       "      <td>652230</td>\n",
       "      <td>53.5</td>\n",
       "      <td>5.020</td>\n",
       "      <td>52.06</td>\n",
       "      <td>165.75</td>\n",
       "    </tr>\n",
       "    <tr>\n",
       "      <th>4</th>\n",
       "      <td>5</td>\n",
       "      <td>AF</td>\n",
       "      <td>AF</td>\n",
       "      <td>Afghanistan</td>\n",
       "      <td>2019</td>\n",
       "      <td>35739709</td>\n",
       "      <td>2.362</td>\n",
       "      <td>652230</td>\n",
       "      <td>54.8</td>\n",
       "      <td>4.920</td>\n",
       "      <td>52.45</td>\n",
       "      <td>162.85</td>\n",
       "    </tr>\n",
       "  </tbody>\n",
       "</table>\n",
       "</div>\n",
       "      <button class=\"colab-df-convert\" onclick=\"convertToInteractive('df-b7b3ab47-5ac0-4a52-963d-927cbbfa283e')\"\n",
       "              title=\"Convert this dataframe to an interactive table.\"\n",
       "              style=\"display:none;\">\n",
       "        \n",
       "  <svg xmlns=\"http://www.w3.org/2000/svg\" height=\"24px\"viewBox=\"0 0 24 24\"\n",
       "       width=\"24px\">\n",
       "    <path d=\"M0 0h24v24H0V0z\" fill=\"none\"/>\n",
       "    <path d=\"M18.56 5.44l.94 2.06.94-2.06 2.06-.94-2.06-.94-.94-2.06-.94 2.06-2.06.94zm-11 1L8.5 8.5l.94-2.06 2.06-.94-2.06-.94L8.5 2.5l-.94 2.06-2.06.94zm10 10l.94 2.06.94-2.06 2.06-.94-2.06-.94-.94-2.06-.94 2.06-2.06.94z\"/><path d=\"M17.41 7.96l-1.37-1.37c-.4-.4-.92-.59-1.43-.59-.52 0-1.04.2-1.43.59L10.3 9.45l-7.72 7.72c-.78.78-.78 2.05 0 2.83L4 21.41c.39.39.9.59 1.41.59.51 0 1.02-.2 1.41-.59l7.78-7.78 2.81-2.81c.8-.78.8-2.07 0-2.86zM5.41 20L4 18.59l7.72-7.72 1.47 1.35L5.41 20z\"/>\n",
       "  </svg>\n",
       "      </button>\n",
       "      \n",
       "  <style>\n",
       "    .colab-df-container {\n",
       "      display:flex;\n",
       "      flex-wrap:wrap;\n",
       "      gap: 12px;\n",
       "    }\n",
       "\n",
       "    .colab-df-convert {\n",
       "      background-color: #E8F0FE;\n",
       "      border: none;\n",
       "      border-radius: 50%;\n",
       "      cursor: pointer;\n",
       "      display: none;\n",
       "      fill: #1967D2;\n",
       "      height: 32px;\n",
       "      padding: 0 0 0 0;\n",
       "      width: 32px;\n",
       "    }\n",
       "\n",
       "    .colab-df-convert:hover {\n",
       "      background-color: #E2EBFA;\n",
       "      box-shadow: 0px 1px 2px rgba(60, 64, 67, 0.3), 0px 1px 3px 1px rgba(60, 64, 67, 0.15);\n",
       "      fill: #174EA6;\n",
       "    }\n",
       "\n",
       "    [theme=dark] .colab-df-convert {\n",
       "      background-color: #3B4455;\n",
       "      fill: #D2E3FC;\n",
       "    }\n",
       "\n",
       "    [theme=dark] .colab-df-convert:hover {\n",
       "      background-color: #434B5C;\n",
       "      box-shadow: 0px 1px 3px 1px rgba(0, 0, 0, 0.15);\n",
       "      filter: drop-shadow(0px 1px 2px rgba(0, 0, 0, 0.3));\n",
       "      fill: #FFFFFF;\n",
       "    }\n",
       "  </style>\n",
       "\n",
       "      <script>\n",
       "        const buttonEl =\n",
       "          document.querySelector('#df-b7b3ab47-5ac0-4a52-963d-927cbbfa283e button.colab-df-convert');\n",
       "        buttonEl.style.display =\n",
       "          google.colab.kernel.accessAllowed ? 'block' : 'none';\n",
       "\n",
       "        async function convertToInteractive(key) {\n",
       "          const element = document.querySelector('#df-b7b3ab47-5ac0-4a52-963d-927cbbfa283e');\n",
       "          const dataTable =\n",
       "            await google.colab.kernel.invokeFunction('convertToInteractive',\n",
       "                                                     [key], {});\n",
       "          if (!dataTable) return;\n",
       "\n",
       "          const docLinkHtml = 'Like what you see? Visit the ' +\n",
       "            '<a target=\"_blank\" href=https://colab.research.google.com/notebooks/data_table.ipynb>data table notebook</a>'\n",
       "            + ' to learn more about interactive tables.';\n",
       "          element.innerHTML = '';\n",
       "          dataTable['output_type'] = 'display_data';\n",
       "          await google.colab.output.renderOutput(dataTable, element);\n",
       "          const docLink = document.createElement('div');\n",
       "          docLink.innerHTML = docLinkHtml;\n",
       "          element.appendChild(docLink);\n",
       "        }\n",
       "      </script>\n",
       "    </div>\n",
       "  </div>\n",
       "  "
      ],
      "text/plain": [
       "   Row FIPS GENC Country/Area Name  Year  Population  Annual Growth Rate %  \\\n",
       "0    1   AF   AF       Afghanistan  2015    32547550                 2.306   \n",
       "1    2   AF   AF       Afghanistan  2016    33310667                 2.329   \n",
       "2    3   AF   AF       Afghanistan  2017    34097944                 2.343   \n",
       "3    4   AF   AF       Afghanistan  2018    34907481                 2.350   \n",
       "4    5   AF   AF       Afghanistan  2019    35739709                 2.362   \n",
       "\n",
       "   Area (sq km)  Density (per sq km)  Total Fertility Rate  \\\n",
       "0        652230                 49.9                 5.326   \n",
       "1        652230                 51.1                 5.220   \n",
       "2        652230                 52.3                 5.120   \n",
       "3        652230                 53.5                 5.020   \n",
       "4        652230                 54.8                 4.920   \n",
       "\n",
       "   Life Expectancy at Birth  Under-5 Mortality Rate  \n",
       "0                     50.87                  174.77  \n",
       "1                     51.27                  171.72  \n",
       "2                     51.67                  168.71  \n",
       "3                     52.06                  165.75  \n",
       "4                     52.45                  162.85  "
      ]
     },
     "execution_count": 3,
     "metadata": {},
     "output_type": "execute_result"
    }
   ],
   "source": [
    "# reading-in & inspecting the population data\n",
    "df = pd.read_csv('population_data1.csv')\n",
    "df.head()"
   ]
  },
  {
   "cell_type": "markdown",
   "metadata": {
    "id": "uuZfUcFsZp3O"
   },
   "source": [
    "## Exploratory Data Analysis "
   ]
  },
  {
   "cell_type": "code",
   "execution_count": 4,
   "metadata": {
    "colab": {
     "base_uri": "https://localhost:8080/"
    },
    "id": "Fc11HKHKYYVL",
    "outputId": "7172c9c8-fb26-4827-f2df-0fd44b2aa9ac"
   },
   "outputs": [
    {
     "data": {
      "text/plain": [
       "(2497, 12)"
      ]
     },
     "execution_count": 4,
     "metadata": {},
     "output_type": "execute_result"
    }
   ],
   "source": [
    "df.shape # checking the shape of the data"
   ]
  },
  {
   "cell_type": "code",
   "execution_count": 5,
   "metadata": {
    "id": "7bAOBYvteNQz"
   },
   "outputs": [],
   "source": [
    " # dropping columns not relevant for the analysis\n",
    "df.drop(['Row', 'FIPS', 'GENC'], axis=1, inplace=True)"
   ]
  },
  {
   "cell_type": "code",
   "execution_count": 6,
   "metadata": {
    "colab": {
     "base_uri": "https://localhost:8080/",
     "height": 267
    },
    "id": "8OudsO94eNTO",
    "outputId": "87403c0e-65f9-4582-91bc-dec85fe7e37c"
   },
   "outputs": [
    {
     "data": {
      "text/html": [
       "\n",
       "  <div id=\"df-375631e2-afe8-445d-9a08-b75d80e70802\">\n",
       "    <div class=\"colab-df-container\">\n",
       "      <div>\n",
       "<style scoped>\n",
       "    .dataframe tbody tr th:only-of-type {\n",
       "        vertical-align: middle;\n",
       "    }\n",
       "\n",
       "    .dataframe tbody tr th {\n",
       "        vertical-align: top;\n",
       "    }\n",
       "\n",
       "    .dataframe thead th {\n",
       "        text-align: right;\n",
       "    }\n",
       "</style>\n",
       "<table border=\"1\" class=\"dataframe\">\n",
       "  <thead>\n",
       "    <tr style=\"text-align: right;\">\n",
       "      <th></th>\n",
       "      <th>Country/Area Name</th>\n",
       "      <th>Year</th>\n",
       "      <th>Population</th>\n",
       "      <th>Annual Growth Rate %</th>\n",
       "      <th>Area (sq km)</th>\n",
       "      <th>Density (per sq km)</th>\n",
       "      <th>Total Fertility Rate</th>\n",
       "      <th>Life Expectancy at Birth</th>\n",
       "      <th>Under-5 Mortality Rate</th>\n",
       "    </tr>\n",
       "  </thead>\n",
       "  <tbody>\n",
       "    <tr>\n",
       "      <th>0</th>\n",
       "      <td>Afghanistan</td>\n",
       "      <td>2015</td>\n",
       "      <td>32547550</td>\n",
       "      <td>2.306</td>\n",
       "      <td>652230</td>\n",
       "      <td>49.9</td>\n",
       "      <td>5.326</td>\n",
       "      <td>50.87</td>\n",
       "      <td>174.77</td>\n",
       "    </tr>\n",
       "    <tr>\n",
       "      <th>1</th>\n",
       "      <td>Afghanistan</td>\n",
       "      <td>2016</td>\n",
       "      <td>33310667</td>\n",
       "      <td>2.329</td>\n",
       "      <td>652230</td>\n",
       "      <td>51.1</td>\n",
       "      <td>5.220</td>\n",
       "      <td>51.27</td>\n",
       "      <td>171.72</td>\n",
       "    </tr>\n",
       "    <tr>\n",
       "      <th>2</th>\n",
       "      <td>Afghanistan</td>\n",
       "      <td>2017</td>\n",
       "      <td>34097944</td>\n",
       "      <td>2.343</td>\n",
       "      <td>652230</td>\n",
       "      <td>52.3</td>\n",
       "      <td>5.120</td>\n",
       "      <td>51.67</td>\n",
       "      <td>168.71</td>\n",
       "    </tr>\n",
       "    <tr>\n",
       "      <th>3</th>\n",
       "      <td>Afghanistan</td>\n",
       "      <td>2018</td>\n",
       "      <td>34907481</td>\n",
       "      <td>2.350</td>\n",
       "      <td>652230</td>\n",
       "      <td>53.5</td>\n",
       "      <td>5.020</td>\n",
       "      <td>52.06</td>\n",
       "      <td>165.75</td>\n",
       "    </tr>\n",
       "    <tr>\n",
       "      <th>4</th>\n",
       "      <td>Afghanistan</td>\n",
       "      <td>2019</td>\n",
       "      <td>35739709</td>\n",
       "      <td>2.362</td>\n",
       "      <td>652230</td>\n",
       "      <td>54.8</td>\n",
       "      <td>4.920</td>\n",
       "      <td>52.45</td>\n",
       "      <td>162.85</td>\n",
       "    </tr>\n",
       "  </tbody>\n",
       "</table>\n",
       "</div>\n",
       "      <button class=\"colab-df-convert\" onclick=\"convertToInteractive('df-375631e2-afe8-445d-9a08-b75d80e70802')\"\n",
       "              title=\"Convert this dataframe to an interactive table.\"\n",
       "              style=\"display:none;\">\n",
       "        \n",
       "  <svg xmlns=\"http://www.w3.org/2000/svg\" height=\"24px\"viewBox=\"0 0 24 24\"\n",
       "       width=\"24px\">\n",
       "    <path d=\"M0 0h24v24H0V0z\" fill=\"none\"/>\n",
       "    <path d=\"M18.56 5.44l.94 2.06.94-2.06 2.06-.94-2.06-.94-.94-2.06-.94 2.06-2.06.94zm-11 1L8.5 8.5l.94-2.06 2.06-.94-2.06-.94L8.5 2.5l-.94 2.06-2.06.94zm10 10l.94 2.06.94-2.06 2.06-.94-2.06-.94-.94-2.06-.94 2.06-2.06.94z\"/><path d=\"M17.41 7.96l-1.37-1.37c-.4-.4-.92-.59-1.43-.59-.52 0-1.04.2-1.43.59L10.3 9.45l-7.72 7.72c-.78.78-.78 2.05 0 2.83L4 21.41c.39.39.9.59 1.41.59.51 0 1.02-.2 1.41-.59l7.78-7.78 2.81-2.81c.8-.78.8-2.07 0-2.86zM5.41 20L4 18.59l7.72-7.72 1.47 1.35L5.41 20z\"/>\n",
       "  </svg>\n",
       "      </button>\n",
       "      \n",
       "  <style>\n",
       "    .colab-df-container {\n",
       "      display:flex;\n",
       "      flex-wrap:wrap;\n",
       "      gap: 12px;\n",
       "    }\n",
       "\n",
       "    .colab-df-convert {\n",
       "      background-color: #E8F0FE;\n",
       "      border: none;\n",
       "      border-radius: 50%;\n",
       "      cursor: pointer;\n",
       "      display: none;\n",
       "      fill: #1967D2;\n",
       "      height: 32px;\n",
       "      padding: 0 0 0 0;\n",
       "      width: 32px;\n",
       "    }\n",
       "\n",
       "    .colab-df-convert:hover {\n",
       "      background-color: #E2EBFA;\n",
       "      box-shadow: 0px 1px 2px rgba(60, 64, 67, 0.3), 0px 1px 3px 1px rgba(60, 64, 67, 0.15);\n",
       "      fill: #174EA6;\n",
       "    }\n",
       "\n",
       "    [theme=dark] .colab-df-convert {\n",
       "      background-color: #3B4455;\n",
       "      fill: #D2E3FC;\n",
       "    }\n",
       "\n",
       "    [theme=dark] .colab-df-convert:hover {\n",
       "      background-color: #434B5C;\n",
       "      box-shadow: 0px 1px 3px 1px rgba(0, 0, 0, 0.15);\n",
       "      filter: drop-shadow(0px 1px 2px rgba(0, 0, 0, 0.3));\n",
       "      fill: #FFFFFF;\n",
       "    }\n",
       "  </style>\n",
       "\n",
       "      <script>\n",
       "        const buttonEl =\n",
       "          document.querySelector('#df-375631e2-afe8-445d-9a08-b75d80e70802 button.colab-df-convert');\n",
       "        buttonEl.style.display =\n",
       "          google.colab.kernel.accessAllowed ? 'block' : 'none';\n",
       "\n",
       "        async function convertToInteractive(key) {\n",
       "          const element = document.querySelector('#df-375631e2-afe8-445d-9a08-b75d80e70802');\n",
       "          const dataTable =\n",
       "            await google.colab.kernel.invokeFunction('convertToInteractive',\n",
       "                                                     [key], {});\n",
       "          if (!dataTable) return;\n",
       "\n",
       "          const docLinkHtml = 'Like what you see? Visit the ' +\n",
       "            '<a target=\"_blank\" href=https://colab.research.google.com/notebooks/data_table.ipynb>data table notebook</a>'\n",
       "            + ' to learn more about interactive tables.';\n",
       "          element.innerHTML = '';\n",
       "          dataTable['output_type'] = 'display_data';\n",
       "          await google.colab.output.renderOutput(dataTable, element);\n",
       "          const docLink = document.createElement('div');\n",
       "          docLink.innerHTML = docLinkHtml;\n",
       "          element.appendChild(docLink);\n",
       "        }\n",
       "      </script>\n",
       "    </div>\n",
       "  </div>\n",
       "  "
      ],
      "text/plain": [
       "  Country/Area Name  Year  Population  Annual Growth Rate %  Area (sq km)  \\\n",
       "0       Afghanistan  2015    32547550                 2.306        652230   \n",
       "1       Afghanistan  2016    33310667                 2.329        652230   \n",
       "2       Afghanistan  2017    34097944                 2.343        652230   \n",
       "3       Afghanistan  2018    34907481                 2.350        652230   \n",
       "4       Afghanistan  2019    35739709                 2.362        652230   \n",
       "\n",
       "   Density (per sq km)  Total Fertility Rate  Life Expectancy at Birth  \\\n",
       "0                 49.9                 5.326                     50.87   \n",
       "1                 51.1                 5.220                     51.27   \n",
       "2                 52.3                 5.120                     51.67   \n",
       "3                 53.5                 5.020                     52.06   \n",
       "4                 54.8                 4.920                     52.45   \n",
       "\n",
       "   Under-5 Mortality Rate  \n",
       "0                  174.77  \n",
       "1                  171.72  \n",
       "2                  168.71  \n",
       "3                  165.75  \n",
       "4                  162.85  "
      ]
     },
     "execution_count": 6,
     "metadata": {},
     "output_type": "execute_result"
    }
   ],
   "source": [
    "df.head() # data inspection"
   ]
  },
  {
   "cell_type": "code",
   "execution_count": 7,
   "metadata": {
    "colab": {
     "base_uri": "https://localhost:8080/"
    },
    "id": "raP08upceNWO",
    "outputId": "c1965a4d-c036-472e-a1e3-142c01d5aec4"
   },
   "outputs": [
    {
     "name": "stdout",
     "output_type": "stream",
     "text": [
      "<class 'pandas.core.frame.DataFrame'>\n",
      "RangeIndex: 2497 entries, 0 to 2496\n",
      "Data columns (total 9 columns):\n",
      " #   Column                    Non-Null Count  Dtype  \n",
      "---  ------                    --------------  -----  \n",
      " 0   Country/Area Name         2497 non-null   object \n",
      " 1   Year                      2497 non-null   int64  \n",
      " 2   Population                2497 non-null   int64  \n",
      " 3   Annual Growth Rate %      2497 non-null   float64\n",
      " 4   Area (sq km)              2497 non-null   int64  \n",
      " 5   Density (per sq km)       2497 non-null   float64\n",
      " 6   Total Fertility Rate      2492 non-null   float64\n",
      " 7   Life Expectancy at Birth  2492 non-null   float64\n",
      " 8   Under-5 Mortality Rate    2492 non-null   float64\n",
      "dtypes: float64(5), int64(3), object(1)\n",
      "memory usage: 175.7+ KB\n"
     ]
    }
   ],
   "source": [
    "df.info() # more information about the data"
   ]
  },
  {
   "cell_type": "code",
   "execution_count": 8,
   "metadata": {
    "colab": {
     "base_uri": "https://localhost:8080/"
    },
    "id": "HgJmHoXreNa9",
    "outputId": "204f455c-2359-42c2-aa4d-6e0f05b073cc"
   },
   "outputs": [
    {
     "data": {
      "text/plain": [
       "array(['Afghanistan', 'Albania', 'Algeria', 'American Samoa', 'Andorra',\n",
       "       'Angola', 'Anguilla', 'Antigua and Barbuda', 'Argentina',\n",
       "       'Armenia', 'Aruba', 'Australia', 'Austria', 'Azerbaijan',\n",
       "       'Bahamas, The', 'Bahrain', 'Bangladesh', 'Barbados', 'Belarus',\n",
       "       'Belgium', 'Belize', 'Benin', 'Bermuda', 'Bhutan', 'Bolivia',\n",
       "       'Bosnia and Herzegovina', 'Botswana', 'Brazil', 'Brunei',\n",
       "       'Bulgaria', 'Burkina Faso', 'Burma', 'Burundi', 'Cabo Verde',\n",
       "       'Cambodia', 'Cameroon', 'Canada', 'Cayman Islands',\n",
       "       'Central African Republic', 'Chad', 'Chile', 'China', 'Colombia',\n",
       "       'Comoros', 'Congo (Brazzaville)', 'Congo (Kinshasa)',\n",
       "       'Cook Islands', 'Costa Rica', 'Croatia', 'Cuba', 'Curaçao',\n",
       "       'Cyprus', 'Czechia', \"Côte d'Ivoire\", 'Denmark', 'Djibouti',\n",
       "       'Dominica', 'Dominican Republic', 'Ecuador', 'Egypt',\n",
       "       'El Salvador', 'Equatorial Guinea', 'Eritrea', 'Estonia',\n",
       "       'Eswatini', 'Ethiopia', 'Faroe Islands', 'Fiji', 'Finland',\n",
       "       'France', 'French Polynesia', 'Gabon', 'Gambia, The', 'Gaza Strip',\n",
       "       'Georgia', 'Germany', 'Ghana', 'Gibraltar', 'Greece', 'Greenland',\n",
       "       'Grenada', 'Guam', 'Guatemala', 'Guernsey', 'Guinea',\n",
       "       'Guinea-Bissau', 'Guyana', 'Haiti', 'Honduras', 'Hong Kong',\n",
       "       'Hungary', 'Iceland', 'India', 'Indonesia', 'Iran', 'Iraq',\n",
       "       'Ireland', 'Isle of Man', 'Israel', 'Italy', 'Jamaica', 'Japan',\n",
       "       'Jersey', 'Jordan', 'Kazakhstan', 'Kenya', 'Kiribati',\n",
       "       'Korea, North', 'Korea, South', 'Kosovo', 'Kuwait', 'Kyrgyzstan',\n",
       "       'Laos', 'Latvia', 'Lebanon', 'Lesotho', 'Liberia', 'Libya',\n",
       "       'Liechtenstein', 'Lithuania', 'Luxembourg', 'Macau', 'Madagascar',\n",
       "       'Malawi', 'Malaysia', 'Maldives', 'Mali', 'Malta',\n",
       "       'Marshall Islands', 'Mauritania', 'Mauritius', 'Mexico',\n",
       "       'Micronesia, Federated States of', 'Moldova', 'Monaco', 'Mongolia',\n",
       "       'Montenegro', 'Montserrat', 'Morocco', 'Mozambique', 'Namibia',\n",
       "       'Nauru', 'Nepal', 'Netherlands', 'New Caledonia', 'New Zealand',\n",
       "       'Nicaragua', 'Niger', 'Nigeria', 'North Macedonia',\n",
       "       'Northern Mariana Islands', 'Norway', 'Oman', 'Pakistan', 'Palau',\n",
       "       'Panama', 'Papua New Guinea', 'Paraguay', 'Peru', 'Philippines',\n",
       "       'Poland', 'Portugal', 'Puerto Rico', 'Qatar', 'Romania', 'Russia',\n",
       "       'Rwanda', 'Saint Barthelemy',\n",
       "       'Saint Helena, Ascension, and Tristan da Cunha',\n",
       "       'Saint Kitts and Nevis', 'Saint Lucia', 'Saint Martin',\n",
       "       'Saint Pierre and Miquelon', 'Saint Vincent and the Grenadines',\n",
       "       'Samoa', 'San Marino', 'Sao Tome and Principe', 'Saudi Arabia',\n",
       "       'Senegal', 'Serbia', 'Seychelles', 'Sierra Leone', 'Singapore',\n",
       "       'Sint Maarten', 'Slovakia', 'Slovenia', 'Solomon Islands',\n",
       "       'Somalia', 'South Africa', 'South Sudan', 'Spain', 'Sri Lanka',\n",
       "       'Sudan', 'Suriname', 'Sweden', 'Switzerland', 'Syria', 'Taiwan',\n",
       "       'Tajikistan', 'Tanzania', 'Thailand', 'Timor-Leste', 'Togo',\n",
       "       'Tonga', 'Trinidad and Tobago', 'Tunisia', 'Turkey',\n",
       "       'Turkmenistan', 'Turks and Caicos Islands', 'Tuvalu', 'Uganda',\n",
       "       'Ukraine', 'United Arab Emirates', 'United Kingdom',\n",
       "       'United States', 'Uruguay', 'Uzbekistan', 'Vanuatu', 'Venezuela',\n",
       "       'Vietnam', 'Virgin Islands, British', 'Virgin Islands, U.S.',\n",
       "       'Wallis and Futuna', 'West Bank', 'Yemen', 'Zambia', 'Zimbabwe'],\n",
       "      dtype=object)"
      ]
     },
     "execution_count": 8,
     "metadata": {},
     "output_type": "execute_result"
    }
   ],
   "source": [
    "# fetching the list of countries/areas in the data\n",
    "countries = np.unique(df['Country/Area Name'])\n",
    "countries"
   ]
  },
  {
   "cell_type": "code",
   "execution_count": 10,
   "metadata": {
    "colab": {
     "base_uri": "https://localhost:8080/"
    },
    "id": "pjUGQFzXlWYl",
    "outputId": "d7f05646-5633-4e68-8e64-eece297a5f19"
   },
   "outputs": [
    {
     "data": {
      "text/plain": [
       "Country/Area Name           0\n",
       "Year                        0\n",
       "Population                  0\n",
       "Annual Growth Rate %        0\n",
       "Area (sq km)                0\n",
       "Density (per sq km)         0\n",
       "Total Fertility Rate        5\n",
       "Life Expectancy at Birth    5\n",
       "Under-5 Mortality Rate      5\n",
       "dtype: int64"
      ]
     },
     "execution_count": 10,
     "metadata": {},
     "output_type": "execute_result"
    }
   ],
   "source": [
    "df.isna().sum() # checking for missing values"
   ]
  },
  {
   "cell_type": "markdown",
   "metadata": {
    "id": "qE9L1FRBZ7vA"
   },
   "source": [
    "## Missing Value Handling"
   ]
  },
  {
   "cell_type": "code",
   "execution_count": 11,
   "metadata": {
    "colab": {
     "base_uri": "https://localhost:8080/",
     "height": 267
    },
    "id": "2YwYmNA9lidA",
    "outputId": "da5191b7-4eb5-43c5-c884-179dd2e1893d"
   },
   "outputs": [
    {
     "data": {
      "text/html": [
       "\n",
       "  <div id=\"df-dadf2acf-4ea6-40d6-a08b-72521d0b68fa\">\n",
       "    <div class=\"colab-df-container\">\n",
       "      <div>\n",
       "<style scoped>\n",
       "    .dataframe tbody tr th:only-of-type {\n",
       "        vertical-align: middle;\n",
       "    }\n",
       "\n",
       "    .dataframe tbody tr th {\n",
       "        vertical-align: top;\n",
       "    }\n",
       "\n",
       "    .dataframe thead th {\n",
       "        text-align: right;\n",
       "    }\n",
       "</style>\n",
       "<table border=\"1\" class=\"dataframe\">\n",
       "  <thead>\n",
       "    <tr style=\"text-align: right;\">\n",
       "      <th></th>\n",
       "      <th>Country/Area Name</th>\n",
       "      <th>Year</th>\n",
       "      <th>Population</th>\n",
       "      <th>Annual Growth Rate %</th>\n",
       "      <th>Area (sq km)</th>\n",
       "      <th>Density (per sq km)</th>\n",
       "      <th>Total Fertility Rate</th>\n",
       "      <th>Life Expectancy at Birth</th>\n",
       "      <th>Under-5 Mortality Rate</th>\n",
       "    </tr>\n",
       "  </thead>\n",
       "  <tbody>\n",
       "    <tr>\n",
       "      <th>2354</th>\n",
       "      <td>United States</td>\n",
       "      <td>2015</td>\n",
       "      <td>320635163</td>\n",
       "      <td>0.73</td>\n",
       "      <td>9150541</td>\n",
       "      <td>35.0</td>\n",
       "      <td>NaN</td>\n",
       "      <td>NaN</td>\n",
       "      <td>NaN</td>\n",
       "    </tr>\n",
       "    <tr>\n",
       "      <th>2355</th>\n",
       "      <td>United States</td>\n",
       "      <td>2016</td>\n",
       "      <td>322941311</td>\n",
       "      <td>0.72</td>\n",
       "      <td>9150541</td>\n",
       "      <td>35.3</td>\n",
       "      <td>NaN</td>\n",
       "      <td>NaN</td>\n",
       "      <td>NaN</td>\n",
       "    </tr>\n",
       "    <tr>\n",
       "      <th>2356</th>\n",
       "      <td>United States</td>\n",
       "      <td>2017</td>\n",
       "      <td>324985539</td>\n",
       "      <td>0.63</td>\n",
       "      <td>9150541</td>\n",
       "      <td>35.5</td>\n",
       "      <td>NaN</td>\n",
       "      <td>NaN</td>\n",
       "      <td>NaN</td>\n",
       "    </tr>\n",
       "    <tr>\n",
       "      <th>2357</th>\n",
       "      <td>United States</td>\n",
       "      <td>2018</td>\n",
       "      <td>326687501</td>\n",
       "      <td>0.52</td>\n",
       "      <td>9150541</td>\n",
       "      <td>35.7</td>\n",
       "      <td>NaN</td>\n",
       "      <td>NaN</td>\n",
       "      <td>NaN</td>\n",
       "    </tr>\n",
       "    <tr>\n",
       "      <th>2358</th>\n",
       "      <td>United States</td>\n",
       "      <td>2019</td>\n",
       "      <td>328239523</td>\n",
       "      <td>0.48</td>\n",
       "      <td>9150541</td>\n",
       "      <td>35.9</td>\n",
       "      <td>NaN</td>\n",
       "      <td>NaN</td>\n",
       "      <td>NaN</td>\n",
       "    </tr>\n",
       "  </tbody>\n",
       "</table>\n",
       "</div>\n",
       "      <button class=\"colab-df-convert\" onclick=\"convertToInteractive('df-dadf2acf-4ea6-40d6-a08b-72521d0b68fa')\"\n",
       "              title=\"Convert this dataframe to an interactive table.\"\n",
       "              style=\"display:none;\">\n",
       "        \n",
       "  <svg xmlns=\"http://www.w3.org/2000/svg\" height=\"24px\"viewBox=\"0 0 24 24\"\n",
       "       width=\"24px\">\n",
       "    <path d=\"M0 0h24v24H0V0z\" fill=\"none\"/>\n",
       "    <path d=\"M18.56 5.44l.94 2.06.94-2.06 2.06-.94-2.06-.94-.94-2.06-.94 2.06-2.06.94zm-11 1L8.5 8.5l.94-2.06 2.06-.94-2.06-.94L8.5 2.5l-.94 2.06-2.06.94zm10 10l.94 2.06.94-2.06 2.06-.94-2.06-.94-.94-2.06-.94 2.06-2.06.94z\"/><path d=\"M17.41 7.96l-1.37-1.37c-.4-.4-.92-.59-1.43-.59-.52 0-1.04.2-1.43.59L10.3 9.45l-7.72 7.72c-.78.78-.78 2.05 0 2.83L4 21.41c.39.39.9.59 1.41.59.51 0 1.02-.2 1.41-.59l7.78-7.78 2.81-2.81c.8-.78.8-2.07 0-2.86zM5.41 20L4 18.59l7.72-7.72 1.47 1.35L5.41 20z\"/>\n",
       "  </svg>\n",
       "      </button>\n",
       "      \n",
       "  <style>\n",
       "    .colab-df-container {\n",
       "      display:flex;\n",
       "      flex-wrap:wrap;\n",
       "      gap: 12px;\n",
       "    }\n",
       "\n",
       "    .colab-df-convert {\n",
       "      background-color: #E8F0FE;\n",
       "      border: none;\n",
       "      border-radius: 50%;\n",
       "      cursor: pointer;\n",
       "      display: none;\n",
       "      fill: #1967D2;\n",
       "      height: 32px;\n",
       "      padding: 0 0 0 0;\n",
       "      width: 32px;\n",
       "    }\n",
       "\n",
       "    .colab-df-convert:hover {\n",
       "      background-color: #E2EBFA;\n",
       "      box-shadow: 0px 1px 2px rgba(60, 64, 67, 0.3), 0px 1px 3px 1px rgba(60, 64, 67, 0.15);\n",
       "      fill: #174EA6;\n",
       "    }\n",
       "\n",
       "    [theme=dark] .colab-df-convert {\n",
       "      background-color: #3B4455;\n",
       "      fill: #D2E3FC;\n",
       "    }\n",
       "\n",
       "    [theme=dark] .colab-df-convert:hover {\n",
       "      background-color: #434B5C;\n",
       "      box-shadow: 0px 1px 3px 1px rgba(0, 0, 0, 0.15);\n",
       "      filter: drop-shadow(0px 1px 2px rgba(0, 0, 0, 0.3));\n",
       "      fill: #FFFFFF;\n",
       "    }\n",
       "  </style>\n",
       "\n",
       "      <script>\n",
       "        const buttonEl =\n",
       "          document.querySelector('#df-dadf2acf-4ea6-40d6-a08b-72521d0b68fa button.colab-df-convert');\n",
       "        buttonEl.style.display =\n",
       "          google.colab.kernel.accessAllowed ? 'block' : 'none';\n",
       "\n",
       "        async function convertToInteractive(key) {\n",
       "          const element = document.querySelector('#df-dadf2acf-4ea6-40d6-a08b-72521d0b68fa');\n",
       "          const dataTable =\n",
       "            await google.colab.kernel.invokeFunction('convertToInteractive',\n",
       "                                                     [key], {});\n",
       "          if (!dataTable) return;\n",
       "\n",
       "          const docLinkHtml = 'Like what you see? Visit the ' +\n",
       "            '<a target=\"_blank\" href=https://colab.research.google.com/notebooks/data_table.ipynb>data table notebook</a>'\n",
       "            + ' to learn more about interactive tables.';\n",
       "          element.innerHTML = '';\n",
       "          dataTable['output_type'] = 'display_data';\n",
       "          await google.colab.output.renderOutput(dataTable, element);\n",
       "          const docLink = document.createElement('div');\n",
       "          docLink.innerHTML = docLinkHtml;\n",
       "          element.appendChild(docLink);\n",
       "        }\n",
       "      </script>\n",
       "    </div>\n",
       "  </div>\n",
       "  "
      ],
      "text/plain": [
       "     Country/Area Name  Year  Population  Annual Growth Rate %  Area (sq km)  \\\n",
       "2354     United States  2015   320635163                  0.73       9150541   \n",
       "2355     United States  2016   322941311                  0.72       9150541   \n",
       "2356     United States  2017   324985539                  0.63       9150541   \n",
       "2357     United States  2018   326687501                  0.52       9150541   \n",
       "2358     United States  2019   328239523                  0.48       9150541   \n",
       "\n",
       "      Density (per sq km)  Total Fertility Rate  Life Expectancy at Birth  \\\n",
       "2354                 35.0                   NaN                       NaN   \n",
       "2355                 35.3                   NaN                       NaN   \n",
       "2356                 35.5                   NaN                       NaN   \n",
       "2357                 35.7                   NaN                       NaN   \n",
       "2358                 35.9                   NaN                       NaN   \n",
       "\n",
       "      Under-5 Mortality Rate  \n",
       "2354                     NaN  \n",
       "2355                     NaN  \n",
       "2356                     NaN  \n",
       "2357                     NaN  \n",
       "2358                     NaN  "
      ]
     },
     "execution_count": 11,
     "metadata": {},
     "output_type": "execute_result"
    }
   ],
   "source": [
    "df[df['Total Fertility Rate'].isna()] # inspecting the missing values"
   ]
  },
  {
   "cell_type": "markdown",
   "metadata": {
    "id": "SoQ5Px-S_MYA"
   },
   "source": [
    "From above, we can see that all the 5 missing values are from the country 'United States'. Hence, for this analysis, we remove the country from the data."
   ]
  },
  {
   "cell_type": "code",
   "execution_count": 12,
   "metadata": {
    "id": "WiBQ6AhSlqB5"
   },
   "outputs": [],
   "source": [
    "df = df[df['Country/Area Name']!='United States'] # 'United States' has missing values so removing the country"
   ]
  },
  {
   "cell_type": "markdown",
   "metadata": {
    "id": "vKYPeX1TaAS0"
   },
   "source": [
    "## Feature Engineering"
   ]
  },
  {
   "cell_type": "code",
   "execution_count": 13,
   "metadata": {
    "id": "0GZIiRVMeNdg"
   },
   "outputs": [],
   "source": [
    "# this cell shifts the demographic data to one row below.\n",
    "# this will enable a row to have demographics from the previous year to predict the population for current year\n",
    "prediction_data = pd.DataFrame()\n",
    "for country in countries:\n",
    "  orig_df = df[df['Country/Area Name']==country].sort_values('Year') # fetching the country's original data\n",
    "  new_df = orig_df[['Country/Area Name', 'Year']] # storing the country name and year as such\n",
    "  for c in orig_df.columns:\n",
    "    if c not in ['Country/Area Name', 'Year', 'Population']: # storing all other columns as previous\n",
    "      new_df['prev_'+c] = orig_df[c].shift(1)\n",
    "  new_df['curr_population'] = orig_df['Population'] # adding population as current population (target column)\n",
    "  prediction_data = pd.concat([prediction_data, new_df]) # concating each country's data beneath the other\n",
    " "
   ]
  },
  {
   "cell_type": "code",
   "execution_count": 14,
   "metadata": {
    "colab": {
     "base_uri": "https://localhost:8080/",
     "height": 473
    },
    "id": "CyB9-qyXeNf4",
    "outputId": "7042942e-4e2f-4ea7-8ceb-01986b6c7430"
   },
   "outputs": [
    {
     "data": {
      "text/html": [
       "\n",
       "  <div id=\"df-fac96ca1-3013-4779-9cae-14f427a92958\">\n",
       "    <div class=\"colab-df-container\">\n",
       "      <div>\n",
       "<style scoped>\n",
       "    .dataframe tbody tr th:only-of-type {\n",
       "        vertical-align: middle;\n",
       "    }\n",
       "\n",
       "    .dataframe tbody tr th {\n",
       "        vertical-align: top;\n",
       "    }\n",
       "\n",
       "    .dataframe thead th {\n",
       "        text-align: right;\n",
       "    }\n",
       "</style>\n",
       "<table border=\"1\" class=\"dataframe\">\n",
       "  <thead>\n",
       "    <tr style=\"text-align: right;\">\n",
       "      <th></th>\n",
       "      <th>Country/Area Name</th>\n",
       "      <th>Year</th>\n",
       "      <th>prev_Annual Growth Rate %</th>\n",
       "      <th>prev_Area (sq km)</th>\n",
       "      <th>prev_Density (per sq km)</th>\n",
       "      <th>prev_Total Fertility Rate</th>\n",
       "      <th>prev_Life Expectancy at Birth</th>\n",
       "      <th>prev_Under-5 Mortality Rate</th>\n",
       "      <th>curr_population</th>\n",
       "    </tr>\n",
       "  </thead>\n",
       "  <tbody>\n",
       "    <tr>\n",
       "      <th>0</th>\n",
       "      <td>Afghanistan</td>\n",
       "      <td>2015</td>\n",
       "      <td>NaN</td>\n",
       "      <td>NaN</td>\n",
       "      <td>NaN</td>\n",
       "      <td>NaN</td>\n",
       "      <td>NaN</td>\n",
       "      <td>NaN</td>\n",
       "      <td>32547550</td>\n",
       "    </tr>\n",
       "    <tr>\n",
       "      <th>1</th>\n",
       "      <td>Afghanistan</td>\n",
       "      <td>2016</td>\n",
       "      <td>2.306</td>\n",
       "      <td>652230.0</td>\n",
       "      <td>49.9</td>\n",
       "      <td>5.326</td>\n",
       "      <td>50.87</td>\n",
       "      <td>174.77</td>\n",
       "      <td>33310667</td>\n",
       "    </tr>\n",
       "    <tr>\n",
       "      <th>2</th>\n",
       "      <td>Afghanistan</td>\n",
       "      <td>2017</td>\n",
       "      <td>2.329</td>\n",
       "      <td>652230.0</td>\n",
       "      <td>51.1</td>\n",
       "      <td>5.220</td>\n",
       "      <td>51.27</td>\n",
       "      <td>171.72</td>\n",
       "      <td>34097944</td>\n",
       "    </tr>\n",
       "    <tr>\n",
       "      <th>3</th>\n",
       "      <td>Afghanistan</td>\n",
       "      <td>2018</td>\n",
       "      <td>2.343</td>\n",
       "      <td>652230.0</td>\n",
       "      <td>52.3</td>\n",
       "      <td>5.120</td>\n",
       "      <td>51.67</td>\n",
       "      <td>168.71</td>\n",
       "      <td>34907481</td>\n",
       "    </tr>\n",
       "    <tr>\n",
       "      <th>4</th>\n",
       "      <td>Afghanistan</td>\n",
       "      <td>2019</td>\n",
       "      <td>2.350</td>\n",
       "      <td>652230.0</td>\n",
       "      <td>53.5</td>\n",
       "      <td>5.020</td>\n",
       "      <td>52.06</td>\n",
       "      <td>165.75</td>\n",
       "      <td>35739709</td>\n",
       "    </tr>\n",
       "    <tr>\n",
       "      <th>5</th>\n",
       "      <td>Afghanistan</td>\n",
       "      <td>2020</td>\n",
       "      <td>2.362</td>\n",
       "      <td>652230.0</td>\n",
       "      <td>54.8</td>\n",
       "      <td>4.920</td>\n",
       "      <td>52.45</td>\n",
       "      <td>162.85</td>\n",
       "      <td>36594776</td>\n",
       "    </tr>\n",
       "    <tr>\n",
       "      <th>6</th>\n",
       "      <td>Afghanistan</td>\n",
       "      <td>2021</td>\n",
       "      <td>2.366</td>\n",
       "      <td>652230.0</td>\n",
       "      <td>56.1</td>\n",
       "      <td>4.820</td>\n",
       "      <td>52.84</td>\n",
       "      <td>159.98</td>\n",
       "      <td>37466414</td>\n",
       "    </tr>\n",
       "    <tr>\n",
       "      <th>7</th>\n",
       "      <td>Afghanistan</td>\n",
       "      <td>2022</td>\n",
       "      <td>2.342</td>\n",
       "      <td>652230.0</td>\n",
       "      <td>57.4</td>\n",
       "      <td>4.720</td>\n",
       "      <td>53.25</td>\n",
       "      <td>157.03</td>\n",
       "      <td>38346720</td>\n",
       "    </tr>\n",
       "    <tr>\n",
       "      <th>8</th>\n",
       "      <td>Afghanistan</td>\n",
       "      <td>2023</td>\n",
       "      <td>2.304</td>\n",
       "      <td>652230.0</td>\n",
       "      <td>58.8</td>\n",
       "      <td>4.624</td>\n",
       "      <td>53.65</td>\n",
       "      <td>154.13</td>\n",
       "      <td>39232003</td>\n",
       "    </tr>\n",
       "    <tr>\n",
       "      <th>9</th>\n",
       "      <td>Afghanistan</td>\n",
       "      <td>2024</td>\n",
       "      <td>2.262</td>\n",
       "      <td>652230.0</td>\n",
       "      <td>60.2</td>\n",
       "      <td>4.528</td>\n",
       "      <td>54.05</td>\n",
       "      <td>151.27</td>\n",
       "      <td>40121552</td>\n",
       "    </tr>\n",
       "    <tr>\n",
       "      <th>10</th>\n",
       "      <td>Afghanistan</td>\n",
       "      <td>2025</td>\n",
       "      <td>2.223</td>\n",
       "      <td>652230.0</td>\n",
       "      <td>61.5</td>\n",
       "      <td>4.432</td>\n",
       "      <td>54.44</td>\n",
       "      <td>148.48</td>\n",
       "      <td>41014912</td>\n",
       "    </tr>\n",
       "  </tbody>\n",
       "</table>\n",
       "</div>\n",
       "      <button class=\"colab-df-convert\" onclick=\"convertToInteractive('df-fac96ca1-3013-4779-9cae-14f427a92958')\"\n",
       "              title=\"Convert this dataframe to an interactive table.\"\n",
       "              style=\"display:none;\">\n",
       "        \n",
       "  <svg xmlns=\"http://www.w3.org/2000/svg\" height=\"24px\"viewBox=\"0 0 24 24\"\n",
       "       width=\"24px\">\n",
       "    <path d=\"M0 0h24v24H0V0z\" fill=\"none\"/>\n",
       "    <path d=\"M18.56 5.44l.94 2.06.94-2.06 2.06-.94-2.06-.94-.94-2.06-.94 2.06-2.06.94zm-11 1L8.5 8.5l.94-2.06 2.06-.94-2.06-.94L8.5 2.5l-.94 2.06-2.06.94zm10 10l.94 2.06.94-2.06 2.06-.94-2.06-.94-.94-2.06-.94 2.06-2.06.94z\"/><path d=\"M17.41 7.96l-1.37-1.37c-.4-.4-.92-.59-1.43-.59-.52 0-1.04.2-1.43.59L10.3 9.45l-7.72 7.72c-.78.78-.78 2.05 0 2.83L4 21.41c.39.39.9.59 1.41.59.51 0 1.02-.2 1.41-.59l7.78-7.78 2.81-2.81c.8-.78.8-2.07 0-2.86zM5.41 20L4 18.59l7.72-7.72 1.47 1.35L5.41 20z\"/>\n",
       "  </svg>\n",
       "      </button>\n",
       "      \n",
       "  <style>\n",
       "    .colab-df-container {\n",
       "      display:flex;\n",
       "      flex-wrap:wrap;\n",
       "      gap: 12px;\n",
       "    }\n",
       "\n",
       "    .colab-df-convert {\n",
       "      background-color: #E8F0FE;\n",
       "      border: none;\n",
       "      border-radius: 50%;\n",
       "      cursor: pointer;\n",
       "      display: none;\n",
       "      fill: #1967D2;\n",
       "      height: 32px;\n",
       "      padding: 0 0 0 0;\n",
       "      width: 32px;\n",
       "    }\n",
       "\n",
       "    .colab-df-convert:hover {\n",
       "      background-color: #E2EBFA;\n",
       "      box-shadow: 0px 1px 2px rgba(60, 64, 67, 0.3), 0px 1px 3px 1px rgba(60, 64, 67, 0.15);\n",
       "      fill: #174EA6;\n",
       "    }\n",
       "\n",
       "    [theme=dark] .colab-df-convert {\n",
       "      background-color: #3B4455;\n",
       "      fill: #D2E3FC;\n",
       "    }\n",
       "\n",
       "    [theme=dark] .colab-df-convert:hover {\n",
       "      background-color: #434B5C;\n",
       "      box-shadow: 0px 1px 3px 1px rgba(0, 0, 0, 0.15);\n",
       "      filter: drop-shadow(0px 1px 2px rgba(0, 0, 0, 0.3));\n",
       "      fill: #FFFFFF;\n",
       "    }\n",
       "  </style>\n",
       "\n",
       "      <script>\n",
       "        const buttonEl =\n",
       "          document.querySelector('#df-fac96ca1-3013-4779-9cae-14f427a92958 button.colab-df-convert');\n",
       "        buttonEl.style.display =\n",
       "          google.colab.kernel.accessAllowed ? 'block' : 'none';\n",
       "\n",
       "        async function convertToInteractive(key) {\n",
       "          const element = document.querySelector('#df-fac96ca1-3013-4779-9cae-14f427a92958');\n",
       "          const dataTable =\n",
       "            await google.colab.kernel.invokeFunction('convertToInteractive',\n",
       "                                                     [key], {});\n",
       "          if (!dataTable) return;\n",
       "\n",
       "          const docLinkHtml = 'Like what you see? Visit the ' +\n",
       "            '<a target=\"_blank\" href=https://colab.research.google.com/notebooks/data_table.ipynb>data table notebook</a>'\n",
       "            + ' to learn more about interactive tables.';\n",
       "          element.innerHTML = '';\n",
       "          dataTable['output_type'] = 'display_data';\n",
       "          await google.colab.output.renderOutput(dataTable, element);\n",
       "          const docLink = document.createElement('div');\n",
       "          docLink.innerHTML = docLinkHtml;\n",
       "          element.appendChild(docLink);\n",
       "        }\n",
       "      </script>\n",
       "    </div>\n",
       "  </div>\n",
       "  "
      ],
      "text/plain": [
       "   Country/Area Name  Year  prev_Annual Growth Rate %  prev_Area (sq km)  \\\n",
       "0        Afghanistan  2015                        NaN                NaN   \n",
       "1        Afghanistan  2016                      2.306           652230.0   \n",
       "2        Afghanistan  2017                      2.329           652230.0   \n",
       "3        Afghanistan  2018                      2.343           652230.0   \n",
       "4        Afghanistan  2019                      2.350           652230.0   \n",
       "5        Afghanistan  2020                      2.362           652230.0   \n",
       "6        Afghanistan  2021                      2.366           652230.0   \n",
       "7        Afghanistan  2022                      2.342           652230.0   \n",
       "8        Afghanistan  2023                      2.304           652230.0   \n",
       "9        Afghanistan  2024                      2.262           652230.0   \n",
       "10       Afghanistan  2025                      2.223           652230.0   \n",
       "\n",
       "    prev_Density (per sq km)  prev_Total Fertility Rate  \\\n",
       "0                        NaN                        NaN   \n",
       "1                       49.9                      5.326   \n",
       "2                       51.1                      5.220   \n",
       "3                       52.3                      5.120   \n",
       "4                       53.5                      5.020   \n",
       "5                       54.8                      4.920   \n",
       "6                       56.1                      4.820   \n",
       "7                       57.4                      4.720   \n",
       "8                       58.8                      4.624   \n",
       "9                       60.2                      4.528   \n",
       "10                      61.5                      4.432   \n",
       "\n",
       "    prev_Life Expectancy at Birth  prev_Under-5 Mortality Rate  \\\n",
       "0                             NaN                          NaN   \n",
       "1                           50.87                       174.77   \n",
       "2                           51.27                       171.72   \n",
       "3                           51.67                       168.71   \n",
       "4                           52.06                       165.75   \n",
       "5                           52.45                       162.85   \n",
       "6                           52.84                       159.98   \n",
       "7                           53.25                       157.03   \n",
       "8                           53.65                       154.13   \n",
       "9                           54.05                       151.27   \n",
       "10                          54.44                       148.48   \n",
       "\n",
       "    curr_population  \n",
       "0          32547550  \n",
       "1          33310667  \n",
       "2          34097944  \n",
       "3          34907481  \n",
       "4          35739709  \n",
       "5          36594776  \n",
       "6          37466414  \n",
       "7          38346720  \n",
       "8          39232003  \n",
       "9          40121552  \n",
       "10         41014912  "
      ]
     },
     "execution_count": 14,
     "metadata": {},
     "output_type": "execute_result"
    }
   ],
   "source": [
    "prediction_data.head(11) # data inspection"
   ]
  },
  {
   "cell_type": "code",
   "execution_count": 15,
   "metadata": {
    "id": "KtP1Zmr0eNie"
   },
   "outputs": [],
   "source": [
    "# Since 2015 has no previous year's data, we cannot use the year for any analysis. Hence removing.\n",
    "prediction_data = prediction_data[prediction_data.Year!=2015] "
   ]
  },
  {
   "cell_type": "code",
   "execution_count": 16,
   "metadata": {
    "id": "Z0M2Z5Ihx8Cx"
   },
   "outputs": [],
   "source": [
    "prediction_data.to_excel('population_prediction1.xlsx', index=False) # storing "
   ]
  },
  {
   "cell_type": "markdown",
   "metadata": {
    "id": "crKF7FlGaGTS"
   },
   "source": [
    "## More EDA on the feature engineered data"
   ]
  },
  {
   "cell_type": "code",
   "execution_count": 59,
   "metadata": {
    "colab": {
     "base_uri": "https://localhost:8080/",
     "height": 361
    },
    "id": "YFubr3-DarbP",
    "outputId": "522712c8-7772-48d6-a745-a162d97735a3"
   },
   "outputs": [
    {
     "data": {
      "text/html": [
       "\n",
       "  <div id=\"df-683dd9be-9232-4cf5-a133-507b1a62c02b\">\n",
       "    <div class=\"colab-df-container\">\n",
       "      <div>\n",
       "<style scoped>\n",
       "    .dataframe tbody tr th:only-of-type {\n",
       "        vertical-align: middle;\n",
       "    }\n",
       "\n",
       "    .dataframe tbody tr th {\n",
       "        vertical-align: top;\n",
       "    }\n",
       "\n",
       "    .dataframe thead th {\n",
       "        text-align: right;\n",
       "    }\n",
       "</style>\n",
       "<table border=\"1\" class=\"dataframe\">\n",
       "  <thead>\n",
       "    <tr style=\"text-align: right;\">\n",
       "      <th></th>\n",
       "      <th>Year</th>\n",
       "      <th>prev_Annual Growth Rate %</th>\n",
       "      <th>prev_Area (sq km)</th>\n",
       "      <th>prev_Density (per sq km)</th>\n",
       "      <th>prev_Total Fertility Rate</th>\n",
       "      <th>prev_Life Expectancy at Birth</th>\n",
       "      <th>prev_Under-5 Mortality Rate</th>\n",
       "      <th>curr_population</th>\n",
       "    </tr>\n",
       "  </thead>\n",
       "  <tbody>\n",
       "    <tr>\n",
       "      <th>count</th>\n",
       "      <td>2260.000000</td>\n",
       "      <td>2260.000000</td>\n",
       "      <td>2.260000e+03</td>\n",
       "      <td>2260.000000</td>\n",
       "      <td>2260.000000</td>\n",
       "      <td>2260.000000</td>\n",
       "      <td>2260.000000</td>\n",
       "      <td>2.260000e+03</td>\n",
       "    </tr>\n",
       "    <tr>\n",
       "      <th>mean</th>\n",
       "      <td>2020.500000</td>\n",
       "      <td>1.009418</td>\n",
       "      <td>5.427899e+05</td>\n",
       "      <td>453.730752</td>\n",
       "      <td>2.480768</td>\n",
       "      <td>73.940712</td>\n",
       "      <td>28.626142</td>\n",
       "      <td>3.298484e+07</td>\n",
       "    </tr>\n",
       "    <tr>\n",
       "      <th>std</th>\n",
       "      <td>2.872917</td>\n",
       "      <td>1.185942</td>\n",
       "      <td>1.619110e+06</td>\n",
       "      <td>1961.644425</td>\n",
       "      <td>1.185249</td>\n",
       "      <td>7.217593</td>\n",
       "      <td>30.423572</td>\n",
       "      <td>1.341521e+08</td>\n",
       "    </tr>\n",
       "    <tr>\n",
       "      <th>min</th>\n",
       "      <td>2016.000000</td>\n",
       "      <td>-8.058000</td>\n",
       "      <td>2.000000e+00</td>\n",
       "      <td>0.000000</td>\n",
       "      <td>0.980000</td>\n",
       "      <td>42.560000</td>\n",
       "      <td>1.910000</td>\n",
       "      <td>5.070000e+03</td>\n",
       "    </tr>\n",
       "    <tr>\n",
       "      <th>25%</th>\n",
       "      <td>2018.000000</td>\n",
       "      <td>0.284000</td>\n",
       "      <td>4.033000e+03</td>\n",
       "      <td>38.750000</td>\n",
       "      <td>1.700000</td>\n",
       "      <td>69.787500</td>\n",
       "      <td>7.757500</td>\n",
       "      <td>6.032098e+05</td>\n",
       "    </tr>\n",
       "    <tr>\n",
       "      <th>50%</th>\n",
       "      <td>2020.500000</td>\n",
       "      <td>0.899500</td>\n",
       "      <td>7.995950e+04</td>\n",
       "      <td>97.550000</td>\n",
       "      <td>2.005400</td>\n",
       "      <td>75.385000</td>\n",
       "      <td>16.025000</td>\n",
       "      <td>5.792036e+06</td>\n",
       "    </tr>\n",
       "    <tr>\n",
       "      <th>75%</th>\n",
       "      <td>2023.000000</td>\n",
       "      <td>1.778250</td>\n",
       "      <td>4.254000e+05</td>\n",
       "      <td>234.325000</td>\n",
       "      <td>2.880000</td>\n",
       "      <td>79.170000</td>\n",
       "      <td>40.180000</td>\n",
       "      <td>2.290520e+07</td>\n",
       "    </tr>\n",
       "    <tr>\n",
       "      <th>max</th>\n",
       "      <td>2025.000000</td>\n",
       "      <td>6.390000</td>\n",
       "      <td>1.637774e+07</td>\n",
       "      <td>23015.200000</td>\n",
       "      <td>7.500000</td>\n",
       "      <td>89.760000</td>\n",
       "      <td>174.770000</td>\n",
       "      <td>1.419317e+09</td>\n",
       "    </tr>\n",
       "  </tbody>\n",
       "</table>\n",
       "</div>\n",
       "      <button class=\"colab-df-convert\" onclick=\"convertToInteractive('df-683dd9be-9232-4cf5-a133-507b1a62c02b')\"\n",
       "              title=\"Convert this dataframe to an interactive table.\"\n",
       "              style=\"display:none;\">\n",
       "        \n",
       "  <svg xmlns=\"http://www.w3.org/2000/svg\" height=\"24px\"viewBox=\"0 0 24 24\"\n",
       "       width=\"24px\">\n",
       "    <path d=\"M0 0h24v24H0V0z\" fill=\"none\"/>\n",
       "    <path d=\"M18.56 5.44l.94 2.06.94-2.06 2.06-.94-2.06-.94-.94-2.06-.94 2.06-2.06.94zm-11 1L8.5 8.5l.94-2.06 2.06-.94-2.06-.94L8.5 2.5l-.94 2.06-2.06.94zm10 10l.94 2.06.94-2.06 2.06-.94-2.06-.94-.94-2.06-.94 2.06-2.06.94z\"/><path d=\"M17.41 7.96l-1.37-1.37c-.4-.4-.92-.59-1.43-.59-.52 0-1.04.2-1.43.59L10.3 9.45l-7.72 7.72c-.78.78-.78 2.05 0 2.83L4 21.41c.39.39.9.59 1.41.59.51 0 1.02-.2 1.41-.59l7.78-7.78 2.81-2.81c.8-.78.8-2.07 0-2.86zM5.41 20L4 18.59l7.72-7.72 1.47 1.35L5.41 20z\"/>\n",
       "  </svg>\n",
       "      </button>\n",
       "      \n",
       "  <style>\n",
       "    .colab-df-container {\n",
       "      display:flex;\n",
       "      flex-wrap:wrap;\n",
       "      gap: 12px;\n",
       "    }\n",
       "\n",
       "    .colab-df-convert {\n",
       "      background-color: #E8F0FE;\n",
       "      border: none;\n",
       "      border-radius: 50%;\n",
       "      cursor: pointer;\n",
       "      display: none;\n",
       "      fill: #1967D2;\n",
       "      height: 32px;\n",
       "      padding: 0 0 0 0;\n",
       "      width: 32px;\n",
       "    }\n",
       "\n",
       "    .colab-df-convert:hover {\n",
       "      background-color: #E2EBFA;\n",
       "      box-shadow: 0px 1px 2px rgba(60, 64, 67, 0.3), 0px 1px 3px 1px rgba(60, 64, 67, 0.15);\n",
       "      fill: #174EA6;\n",
       "    }\n",
       "\n",
       "    [theme=dark] .colab-df-convert {\n",
       "      background-color: #3B4455;\n",
       "      fill: #D2E3FC;\n",
       "    }\n",
       "\n",
       "    [theme=dark] .colab-df-convert:hover {\n",
       "      background-color: #434B5C;\n",
       "      box-shadow: 0px 1px 3px 1px rgba(0, 0, 0, 0.15);\n",
       "      filter: drop-shadow(0px 1px 2px rgba(0, 0, 0, 0.3));\n",
       "      fill: #FFFFFF;\n",
       "    }\n",
       "  </style>\n",
       "\n",
       "      <script>\n",
       "        const buttonEl =\n",
       "          document.querySelector('#df-683dd9be-9232-4cf5-a133-507b1a62c02b button.colab-df-convert');\n",
       "        buttonEl.style.display =\n",
       "          google.colab.kernel.accessAllowed ? 'block' : 'none';\n",
       "\n",
       "        async function convertToInteractive(key) {\n",
       "          const element = document.querySelector('#df-683dd9be-9232-4cf5-a133-507b1a62c02b');\n",
       "          const dataTable =\n",
       "            await google.colab.kernel.invokeFunction('convertToInteractive',\n",
       "                                                     [key], {});\n",
       "          if (!dataTable) return;\n",
       "\n",
       "          const docLinkHtml = 'Like what you see? Visit the ' +\n",
       "            '<a target=\"_blank\" href=https://colab.research.google.com/notebooks/data_table.ipynb>data table notebook</a>'\n",
       "            + ' to learn more about interactive tables.';\n",
       "          element.innerHTML = '';\n",
       "          dataTable['output_type'] = 'display_data';\n",
       "          await google.colab.output.renderOutput(dataTable, element);\n",
       "          const docLink = document.createElement('div');\n",
       "          docLink.innerHTML = docLinkHtml;\n",
       "          element.appendChild(docLink);\n",
       "        }\n",
       "      </script>\n",
       "    </div>\n",
       "  </div>\n",
       "  "
      ],
      "text/plain": [
       "              Year  prev_Annual Growth Rate %  prev_Area (sq km)  \\\n",
       "count  2260.000000                2260.000000       2.260000e+03   \n",
       "mean   2020.500000                   1.009418       5.427899e+05   \n",
       "std       2.872917                   1.185942       1.619110e+06   \n",
       "min    2016.000000                  -8.058000       2.000000e+00   \n",
       "25%    2018.000000                   0.284000       4.033000e+03   \n",
       "50%    2020.500000                   0.899500       7.995950e+04   \n",
       "75%    2023.000000                   1.778250       4.254000e+05   \n",
       "max    2025.000000                   6.390000       1.637774e+07   \n",
       "\n",
       "       prev_Density (per sq km)  prev_Total Fertility Rate  \\\n",
       "count               2260.000000                2260.000000   \n",
       "mean                 453.730752                   2.480768   \n",
       "std                 1961.644425                   1.185249   \n",
       "min                    0.000000                   0.980000   \n",
       "25%                   38.750000                   1.700000   \n",
       "50%                   97.550000                   2.005400   \n",
       "75%                  234.325000                   2.880000   \n",
       "max                23015.200000                   7.500000   \n",
       "\n",
       "       prev_Life Expectancy at Birth  prev_Under-5 Mortality Rate  \\\n",
       "count                    2260.000000                  2260.000000   \n",
       "mean                       73.940712                    28.626142   \n",
       "std                         7.217593                    30.423572   \n",
       "min                        42.560000                     1.910000   \n",
       "25%                        69.787500                     7.757500   \n",
       "50%                        75.385000                    16.025000   \n",
       "75%                        79.170000                    40.180000   \n",
       "max                        89.760000                   174.770000   \n",
       "\n",
       "       curr_population  \n",
       "count     2.260000e+03  \n",
       "mean      3.298484e+07  \n",
       "std       1.341521e+08  \n",
       "min       5.070000e+03  \n",
       "25%       6.032098e+05  \n",
       "50%       5.792036e+06  \n",
       "75%       2.290520e+07  \n",
       "max       1.419317e+09  "
      ]
     },
     "execution_count": 59,
     "metadata": {},
     "output_type": "execute_result"
    }
   ],
   "source": [
    "df = prediction_data.copy()\n",
    "df.describe()"
   ]
  },
  {
   "cell_type": "code",
   "execution_count": 60,
   "metadata": {
    "colab": {
     "base_uri": "https://localhost:8080/",
     "height": 579
    },
    "id": "B2AmCXNCaxMB",
    "outputId": "1c4ad3f7-278a-415f-dcaa-354b4721850c"
   },
   "outputs": [
    {
     "data": {
      "image/png": "[encoded data removed]",
      "text/plain": [
       "<Figure size 640x480 with 1 Axes>"
      ]
     },
     "metadata": {},
     "output_type": "display_data"
    }
   ],
   "source": [
    "df.groupby('Country/Area Name').mean()['curr_population'].sort_values(ascending=False)[:20].plot(kind='bar')\n",
    "plt.title(\"Top 20 Most Populated Countries\")\n",
    "plt.show()"
   ]
  },
  {
   "cell_type": "code",
   "execution_count": 61,
   "metadata": {
    "colab": {
     "base_uri": "https://localhost:8080/",
     "height": 781
    },
    "id": "GdXHnOrYbCyq",
    "outputId": "99067a92-f155-46af-e208-3860cf2db50d"
   },
   "outputs": [
    {
     "data": {
      "image/png": "[encoded data removed]",
      "text/plain": [
       "<Figure size 640x480 with 1 Axes>"
      ]
     },
     "metadata": {},
     "output_type": "display_data"
    }
   ],
   "source": [
    "df.groupby('Country/Area Name').mean()['curr_population'].sort_values(ascending=True)[:20].plot(kind='bar')\n",
    "plt.title(\"Top 20 Least Populated Countries\")\n",
    "plt.show()"
   ]
  },
  {
   "cell_type": "code",
   "execution_count": 62,
   "metadata": {
    "colab": {
     "base_uri": "https://localhost:8080/",
     "height": 443
    },
    "id": "q-8UP9SmbMv5",
    "outputId": "8f93967f-7fa8-49a6-96b7-4094ed563355"
   },
   "outputs": [
    {
     "data": {
      "image/png": "[encoded data removed]",
      "text/plain": [
       "<Figure size 1500x300 with 2 Axes>"
      ]
     },
     "metadata": {},
     "output_type": "display_data"
    }
   ],
   "source": [
    "df_grouped = df.groupby(['Country/Area Name']).mean().reset_index()\n",
    "fig, ax = plt.subplots(1, 2, figsize=(15,3))\n",
    "palette_color = sns.color_palette('magma')\n",
    "df_grouped[['Country/Area Name', 'prev_Density (per sq km)']].sort_values(by='prev_Density (per sq km)', ascending=False).iloc[:15, :].set_index('Country/Area Name').plot(kind='bar',\n",
    "                                                                                                                                   color=palette_color,\n",
    "                                                                                                                                   legend=False,\n",
    "                                                                                                                                   ax=ax[0],\n",
    "                                                                                                                                   xlabel='',\n",
    "                                                                                                                                   ylabel='Density Population',\n",
    "                                                                                                                                   title='top 5 countries with the largest population density')\n",
    "df_grouped[['Country/Area Name', 'prev_Density (per sq km)']].sort_values(by='prev_Density (per sq km)').iloc[:15, :].set_index('Country/Area Name').plot(kind='bar',\n",
    "                                                                                                                  color=palette_color,\n",
    "                                                                                                                  legend=False,\n",
    "                                                                                                                  ax=ax[1],\n",
    "                                                                                                                  xlabel='',\n",
    "                                                                                                                  ylabel='Density Population',\n",
    "                                                                                                                  title='top 5 countries with the smallest population density')\n",
    "ax[0].tick_params(labelrotation=90)\n",
    "ax[1].tick_params(labelrotation=90)\n",
    "plt.show()"
   ]
  },
  {
   "cell_type": "code",
   "execution_count": 63,
   "metadata": {
    "colab": {
     "base_uri": "https://localhost:8080/",
     "height": 472
    },
    "id": "teDhj6iHbO4z",
    "outputId": "c9a5eb28-2b05-4176-c675-57a72d6f64e8"
   },
   "outputs": [
    {
     "data": {
      "image/png": "[encoded data removed]",
      "text/plain": [
       "<Figure size 640x480 with 1 Axes>"
      ]
     },
     "metadata": {},
     "output_type": "display_data"
    }
   ],
   "source": [
    "# Select the top 5 countries with the highest life expectancy at birth\n",
    "df_top_life = df.nlargest(20, 'prev_Life Expectancy at Birth')\n",
    "\n",
    "# Create a bar chart\n",
    "sns.barplot(x='Country/Area Name', y='prev_Life Expectancy at Birth', data=df_top_life)\n",
    "plt.title('Top 5 Countries with Highest Life Expectancy at Birth')\n",
    "plt.xlabel('Country/Area Name')\n",
    "plt.ylabel('Life Expectancy at Birth')\n",
    "\n",
    "# Show the plot\n",
    "plt.show()"
   ]
  },
  {
   "cell_type": "code",
   "execution_count": 64,
   "metadata": {
    "colab": {
     "base_uri": "https://localhost:8080/",
     "height": 472
    },
    "id": "AVW_cITYbQxT",
    "outputId": "e25b542d-35ac-4be2-f9f8-54ac11bd33ab"
   },
   "outputs": [
    {
     "data": {
      "image/png": "[encoded data removed]",
      "text/plain": [
       "<Figure size 640x480 with 1 Axes>"
      ]
     },
     "metadata": {},
     "output_type": "display_data"
    }
   ],
   "source": [
    "# Select the top 5 countries with the highest life expectancy at birth\n",
    "df_top_life = df.nlargest(50, 'prev_Density (per sq km)')\n",
    "\n",
    "# Create a bar chart\n",
    "sns.barplot(x='Country/Area Name', y='prev_Density (per sq km)', data=df_top_life)\n",
    "plt.title('Top 5 Countries with Highest Population Density')\n",
    "plt.xlabel('Country/Area Name')\n",
    "plt.ylabel('Population Density')\n",
    "\n",
    "# Show the plot\n",
    "plt.show()"
   ]
  },
  {
   "cell_type": "code",
   "execution_count": 65,
   "metadata": {
    "colab": {
     "base_uri": "https://localhost:8080/",
     "height": 472
    },
    "id": "bYhlet7wbS0h",
    "outputId": "6fc17efd-2051-4523-9227-f67eb203beec"
   },
   "outputs": [
    {
     "data": {
      "image/png": "[encoded data removed]",
      "text/plain": [
       "<Figure size 640x480 with 1 Axes>"
      ]
     },
     "metadata": {},
     "output_type": "display_data"
    }
   ],
   "source": [
    "# Select the top 5 countries with the highest population density\n",
    "df_top_density = df.nlargest(15, 'prev_Annual Growth Rate %')\n",
    "\n",
    "# Create a horizontal bar chart\n",
    "sns.barplot(x='prev_Annual Growth Rate %', y='Country/Area Name', data=df_top_density)\n",
    "plt.title('Top 5 Countries with Highest Population Growth Rate')\n",
    "plt.xlabel('Population Growth Rate')\n",
    "plt.ylabel('Country/Area Name')\n",
    "\n",
    "# Show the plot\n",
    "plt.show()"
   ]
  },
  {
   "cell_type": "code",
   "execution_count": 66,
   "metadata": {
    "colab": {
     "base_uri": "https://localhost:8080/"
    },
    "id": "Qr0xdFGBeNk7",
    "outputId": "a1b68bf5-af95-44c9-e40d-ef8dc4e04147"
   },
   "outputs": [
    {
     "data": {
      "text/plain": [
       "Country/Area Name                0\n",
       "Year                             0\n",
       "prev_Annual Growth Rate %        0\n",
       "prev_Area (sq km)                0\n",
       "prev_Density (per sq km)         0\n",
       "prev_Total Fertility Rate        0\n",
       "prev_Life Expectancy at Birth    0\n",
       "prev_Under-5 Mortality Rate      0\n",
       "curr_population                  0\n",
       "pred_population                  0\n",
       "dtype: int64"
      ]
     },
     "execution_count": 66,
     "metadata": {},
     "output_type": "execute_result"
    }
   ],
   "source": [
    "prediction_data.isna().sum() # checking for missing values again"
   ]
  },
  {
   "cell_type": "markdown",
   "metadata": {
    "id": "MCbiOK-e_2x6"
   },
   "source": [
    "# Splitting the data\n",
    "\n",
    "Since this data contains a temporal component, we split the data for train & test sequentially and not randomly.\n",
    "\n",
    "We use data from upto (including) 2020 for training, data from 2021 upto (including) 2022 for testing and finally, we keep data from 2023 and above for projections (theyy being the future years)."
   ]
  },
  {
   "cell_type": "code",
   "execution_count": 19,
   "metadata": {
    "colab": {
     "base_uri": "https://localhost:8080/"
    },
    "id": "Q91QgqQfysm-",
    "outputId": "54cd5471-dad1-44bc-8345-723706334619"
   },
   "outputs": [
    {
     "name": "stdout",
     "output_type": "stream",
     "text": [
      "Train\n",
      "2016    226\n",
      "2017    226\n",
      "2018    226\n",
      "2019    226\n",
      "2020    226\n",
      "Name: Year, dtype: int64\n",
      "Test\n",
      "2021    226\n",
      "2022    226\n",
      "Name: Year, dtype: int64\n",
      "Projection\n",
      "2023    226\n",
      "2024    226\n",
      "2025    226\n",
      "Name: Year, dtype: int64\n"
     ]
    }
   ],
   "source": [
    "# splitting train, test and projection data\n",
    "\n",
    "training_data = prediction_data[prediction_data['Year']<=2020]\n",
    "test_data = prediction_data[(prediction_data['Year']>2020) & (prediction_data['Year']<=2022)]\n",
    "projection_data = prediction_data[(prediction_data['Year']>2022)]\n",
    "\n",
    "print(\"Train\")\n",
    "print(training_data.Year.value_counts())\n",
    "print(\"Test\")\n",
    "print(test_data.Year.value_counts())\n",
    "print(\"Projection\")\n",
    "print(projection_data.Year.value_counts())"
   ]
  },
  {
   "cell_type": "code",
   "execution_count": 20,
   "metadata": {
    "colab": {
     "base_uri": "https://localhost:8080/"
    },
    "id": "l4E2xQkf4A3D",
    "outputId": "b75e878c-0b28-4947-a131-957d96e244f9"
   },
   "outputs": [
    {
     "data": {
      "text/plain": [
       "(1130, 9)"
      ]
     },
     "execution_count": 20,
     "metadata": {},
     "output_type": "execute_result"
    }
   ],
   "source": [
    "training_data.shape # checking the number of rows in the training data"
   ]
  },
  {
   "cell_type": "code",
   "execution_count": 21,
   "metadata": {
    "colab": {
     "base_uri": "https://localhost:8080/"
    },
    "id": "NKyHywJU44gf",
    "outputId": "974347ec-52a4-48e9-e2c9-6b14399eb420"
   },
   "outputs": [
    {
     "data": {
      "text/plain": [
       "(452, 9)"
      ]
     },
     "execution_count": 21,
     "metadata": {},
     "output_type": "execute_result"
    }
   ],
   "source": [
    "test_data.shape # checking the number of rows in the test data"
   ]
  },
  {
   "cell_type": "markdown",
   "metadata": {
    "id": "-E9AyeVwaQ2T"
   },
   "source": [
    "## Modeling"
   ]
  },
  {
   "cell_type": "code",
   "execution_count": 22,
   "metadata": {
    "id": "7DbJcCQyz1sw"
   },
   "outputs": [],
   "source": [
    "def preprocess(input_data):\n",
    "  \"\"\"\n",
    "  Function to preprocess the data. \n",
    "  \"\"\"\n",
    "  data = input_data.drop(['Country/Area Name', 'Year'], axis=1).values\n",
    "  data = data.astype('float32')\n",
    "  X, y = data[:,:-1], data[:, -1]\n",
    "  return(X, y)"
   ]
  },
  {
   "cell_type": "code",
   "execution_count": 44,
   "metadata": {
    "colab": {
     "base_uri": "https://localhost:8080/",
     "height": 674,
     "referenced_widgets": [
      "e148da14f1d04834a5920e1afed75175",
      "0fa19b76a5e543ae8a8915a724347361",
      "b56af8c3091b43e793205b05eabd44a2",
      "2a6763ac7dd34eb49c7efb4d574655f6",
      "65219a2158c344728155b6bcdf0c3a24",
      "53506892c698439085cf5f92b13175a6",
      "6b959c9026fb483cbb81ac5305dee264",
      "40c13a308ecd4e399f0f976380568815",
      "03f0cd25f99b4c8c90ae1f2defda8560",
      "29a4e3be33914d70a4a3c047bcb9b373",
      "070f030ff319416fbf383e95768b8335"
     ]
    },
    "id": "NrQ4p6Ab0SIY",
    "outputId": "c9675638-44f5-4282-9278-b746535a06ba"
   },
   "outputs": [
    {
     "data": {
      "application/vnd.jupyter.widget-view+json": {
       "model_id": "e148da14f1d04834a5920e1afed75175",
       "version_major": 2,
       "version_minor": 0
      },
      "text/plain": [
       "Optimization Progress:   0%|          | 0/100 [00:00<?, ?pipeline/s]"
      ]
     },
     "metadata": {},
     "output_type": "display_data"
    },
    {
     "name": "stdout",
     "output_type": "stream",
     "text": [
      "\n",
      "Generation 1 - Current best internal CV score: -444027.888258528\n",
      "\n",
      "Generation 2 - Current best internal CV score: -444027.888258528\n",
      "\n",
      "Generation 3 - Current best internal CV score: -417067.368234346\n",
      "\n",
      "Generation 4 - Current best internal CV score: -417067.368234346\n",
      "\n",
      "Generation 5 - Current best internal CV score: -415164.7147860601\n",
      "\n",
      "Generation 6 - Current best internal CV score: -401885.2703226222\n",
      "\n",
      "Generation 7 - Current best internal CV score: -391947.1319218288\n",
      "\n",
      "75.19 minutes have elapsed. TPOT will close down.\n",
      "TPOT closed during evaluation in one generation.\n",
      "WARNING: TPOT may not provide a good pipeline if TPOT is stopped/interrupted in a early generation.\n",
      "\n",
      "\n",
      "TPOT closed prematurely. Will use the current best pipeline.\n",
      "\n",
      "Best pipeline: ExtraTreesRegressor(StandardScaler(AdaBoostRegressor(input_matrix, learning_rate=0.01, loss=exponential, n_estimators=100)), bootstrap=False, max_features=0.7500000000000001, min_samples_leaf=1, min_samples_split=3, n_estimators=100)\n"
     ]
    },
    {
     "data": {
      "text/html": [
       "<style>#sk-container-id-3 {color: black;background-color: white;}#sk-container-id-3 pre{padding: 0;}#sk-container-id-3 div.sk-toggleable {background-color: white;}#sk-container-id-3 label.sk-toggleable__label {cursor: pointer;display: block;width: 100%;margin-bottom: 0;padding: 0.3em;box-sizing: border-box;text-align: center;}#sk-container-id-3 label.sk-toggleable__label-arrow:before {content: \"▸\";float: left;margin-right: 0.25em;color: #696969;}#sk-container-id-3 label.sk-toggleable__label-arrow:hover:before {color: black;}#sk-container-id-3 div.sk-estimator:hover label.sk-toggleable__label-arrow:before {color: black;}#sk-container-id-3 div.sk-toggleable__content {max-height: 0;max-width: 0;overflow: hidden;text-align: left;background-color: #f0f8ff;}#sk-container-id-3 div.sk-toggleable__content pre {margin: 0.2em;color: black;border-radius: 0.25em;background-color: #f0f8ff;}#sk-container-id-3 input.sk-toggleable__control:checked~div.sk-toggleable__content {max-height: 200px;max-width: 100%;overflow: auto;}#sk-container-id-3 input.sk-toggleable__control:checked~label.sk-toggleable__label-arrow:before {content: \"▾\";}#sk-container-id-3 div.sk-estimator input.sk-toggleable__control:checked~label.sk-toggleable__label {background-color: #d4ebff;}#sk-container-id-3 div.sk-label input.sk-toggleable__control:checked~label.sk-toggleable__label {background-color: #d4ebff;}#sk-container-id-3 input.sk-hidden--visually {border: 0;clip: rect(1px 1px 1px 1px);clip: rect(1px, 1px, 1px, 1px);height: 1px;margin: -1px;overflow: hidden;padding: 0;position: absolute;width: 1px;}#sk-container-id-3 div.sk-estimator {font-family: monospace;background-color: #f0f8ff;border: 1px dotted black;border-radius: 0.25em;box-sizing: border-box;margin-bottom: 0.5em;}#sk-container-id-3 div.sk-estimator:hover {background-color: #d4ebff;}#sk-container-id-3 div.sk-parallel-item::after {content: \"\";width: 100%;border-bottom: 1px solid gray;flex-grow: 1;}#sk-container-id-3 div.sk-label:hover label.sk-toggleable__label {background-color: #d4ebff;}#sk-container-id-3 div.sk-serial::before {content: \"\";position: absolute;border-left: 1px solid gray;box-sizing: border-box;top: 0;bottom: 0;left: 50%;z-index: 0;}#sk-container-id-3 div.sk-serial {display: flex;flex-direction: column;align-items: center;background-color: white;padding-right: 0.2em;padding-left: 0.2em;position: relative;}#sk-container-id-3 div.sk-item {position: relative;z-index: 1;}#sk-container-id-3 div.sk-parallel {display: flex;align-items: stretch;justify-content: center;background-color: white;position: relative;}#sk-container-id-3 div.sk-item::before, #sk-container-id-3 div.sk-parallel-item::before {content: \"\";position: absolute;border-left: 1px solid gray;box-sizing: border-box;top: 0;bottom: 0;left: 50%;z-index: -1;}#sk-container-id-3 div.sk-parallel-item {display: flex;flex-direction: column;z-index: 1;position: relative;background-color: white;}#sk-container-id-3 div.sk-parallel-item:first-child::after {align-self: flex-end;width: 50%;}#sk-container-id-3 div.sk-parallel-item:last-child::after {align-self: flex-start;width: 50%;}#sk-container-id-3 div.sk-parallel-item:only-child::after {width: 0;}#sk-container-id-3 div.sk-dashed-wrapped {border: 1px dashed gray;margin: 0 0.4em 0.5em 0.4em;box-sizing: border-box;padding-bottom: 0.4em;background-color: white;}#sk-container-id-3 div.sk-label label {font-family: monospace;font-weight: bold;display: inline-block;line-height: 1.2em;}#sk-container-id-3 div.sk-label-container {text-align: center;}#sk-container-id-3 div.sk-container {/* jupyter's `normalize.less` sets `[hidden] { display: none; }` but bootstrap.min.css set `[hidden] { display: none !important; }` so we also need the `!important` here to be able to override the default hidden behavior on the sphinx rendered scikit-learn.org. See: https://github.com/scikit-learn/scikit-learn/issues/21755 */display: inline-block !important;position: relative;}#sk-container-id-3 div.sk-text-repr-fallback {display: none;}</style><div id=\"sk-container-id-3\" class=\"sk-top-container\"><div class=\"sk-text-repr-fallback\"><pre>Pipeline(steps=[(&#x27;stackingestimator&#x27;,\n",
       "                 StackingEstimator(estimator=AdaBoostRegressor(learning_rate=0.01,\n",
       "                                                               loss=&#x27;exponential&#x27;,\n",
       "                                                               n_estimators=100,\n",
       "                                                               random_state=1))),\n",
       "                (&#x27;standardscaler&#x27;, StandardScaler()),\n",
       "                (&#x27;extratreesregressor&#x27;,\n",
       "                 ExtraTreesRegressor(max_features=0.7500000000000001,\n",
       "                                     min_samples_split=3, random_state=1))])</pre><b>In a Jupyter environment, please rerun this cell to show the HTML representation or trust the notebook. <br />On GitHub, the HTML representation is unable to render, please try loading this page with nbviewer.org.</b></div><div class=\"sk-container\" hidden><div class=\"sk-item sk-dashed-wrapped\"><div class=\"sk-label-container\"><div class=\"sk-label sk-toggleable\"><input class=\"sk-toggleable__control sk-hidden--visually\" id=\"sk-estimator-id-6\" type=\"checkbox\" ><label for=\"sk-estimator-id-6\" class=\"sk-toggleable__label sk-toggleable__label-arrow\">Pipeline</label><div class=\"sk-toggleable__content\"><pre>Pipeline(steps=[(&#x27;stackingestimator&#x27;,\n",
       "                 StackingEstimator(estimator=AdaBoostRegressor(learning_rate=0.01,\n",
       "                                                               loss=&#x27;exponential&#x27;,\n",
       "                                                               n_estimators=100,\n",
       "                                                               random_state=1))),\n",
       "                (&#x27;standardscaler&#x27;, StandardScaler()),\n",
       "                (&#x27;extratreesregressor&#x27;,\n",
       "                 ExtraTreesRegressor(max_features=0.7500000000000001,\n",
       "                                     min_samples_split=3, random_state=1))])</pre></div></div></div><div class=\"sk-serial\"><div class=\"sk-item sk-dashed-wrapped\"><div class=\"sk-label-container\"><div class=\"sk-label sk-toggleable\"><input class=\"sk-toggleable__control sk-hidden--visually\" id=\"sk-estimator-id-7\" type=\"checkbox\" ><label for=\"sk-estimator-id-7\" class=\"sk-toggleable__label sk-toggleable__label-arrow\">stackingestimator: StackingEstimator</label><div class=\"sk-toggleable__content\"><pre>StackingEstimator(estimator=AdaBoostRegressor(learning_rate=0.01,\n",
       "                                              loss=&#x27;exponential&#x27;,\n",
       "                                              n_estimators=100,\n",
       "                                              random_state=1))</pre></div></div></div><div class=\"sk-parallel\"><div class=\"sk-parallel-item\"><div class=\"sk-item\"><div class=\"sk-label-container\"><div class=\"sk-label sk-toggleable\"><input class=\"sk-toggleable__control sk-hidden--visually\" id=\"sk-estimator-id-8\" type=\"checkbox\" ><label for=\"sk-estimator-id-8\" class=\"sk-toggleable__label sk-toggleable__label-arrow\">estimator: AdaBoostRegressor</label><div class=\"sk-toggleable__content\"><pre>AdaBoostRegressor(learning_rate=0.01, loss=&#x27;exponential&#x27;, n_estimators=100,\n",
       "                  random_state=1)</pre></div></div></div><div class=\"sk-serial\"><div class=\"sk-item\"><div class=\"sk-estimator sk-toggleable\"><input class=\"sk-toggleable__control sk-hidden--visually\" id=\"sk-estimator-id-9\" type=\"checkbox\" ><label for=\"sk-estimator-id-9\" class=\"sk-toggleable__label sk-toggleable__label-arrow\">AdaBoostRegressor</label><div class=\"sk-toggleable__content\"><pre>AdaBoostRegressor(learning_rate=0.01, loss=&#x27;exponential&#x27;, n_estimators=100,\n",
       "                  random_state=1)</pre></div></div></div></div></div></div></div></div><div class=\"sk-item\"><div class=\"sk-estimator sk-toggleable\"><input class=\"sk-toggleable__control sk-hidden--visually\" id=\"sk-estimator-id-10\" type=\"checkbox\" ><label for=\"sk-estimator-id-10\" class=\"sk-toggleable__label sk-toggleable__label-arrow\">StandardScaler</label><div class=\"sk-toggleable__content\"><pre>StandardScaler()</pre></div></div></div><div class=\"sk-item\"><div class=\"sk-estimator sk-toggleable\"><input class=\"sk-toggleable__control sk-hidden--visually\" id=\"sk-estimator-id-11\" type=\"checkbox\" ><label for=\"sk-estimator-id-11\" class=\"sk-toggleable__label sk-toggleable__label-arrow\">ExtraTreesRegressor</label><div class=\"sk-toggleable__content\"><pre>ExtraTreesRegressor(max_features=0.7500000000000001, min_samples_split=3,\n",
       "                    random_state=1)</pre></div></div></div></div></div></div></div>"
      ],
      "text/plain": [
       "Pipeline(steps=[('stackingestimator',\n",
       "                 StackingEstimator(estimator=AdaBoostRegressor(learning_rate=0.01,\n",
       "                                                               loss='exponential',\n",
       "                                                               n_estimators=100,\n",
       "                                                               random_state=1))),\n",
       "                ('standardscaler', StandardScaler()),\n",
       "                ('extratreesregressor',\n",
       "                 ExtraTreesRegressor(max_features=0.7500000000000001,\n",
       "                                     min_samples_split=3, random_state=1))])"
      ]
     },
     "execution_count": 44,
     "metadata": {},
     "output_type": "execute_result"
    }
   ],
   "source": [
    "# training\n",
    "\n",
    "X_train, y_train = preprocess(training_data) # preprocessing the train data\n",
    "\n",
    "cv = RepeatedKFold(n_splits=10, n_repeats=3, random_state=1) # initialising the KFold\n",
    "\n",
    "# initialising the TPOTRegressor\n",
    "modelTPOTB = TPOTRegressor(generations=10, \n",
    "                           population_size=100, \n",
    "                           scoring='neg_mean_absolute_error',\n",
    "                           cv=cv, \n",
    "                           verbosity=2,\n",
    "                           random_state=1, \n",
    "                           n_jobs=-1, # use as many cores as available on the computer in parallel for evaluating pipelines\n",
    "                           max_time_mins=75,\n",
    "                           early_stop=3)\n",
    "\n",
    "modelTPOTB.fit(X_train, y_train) # training\n",
    "modelTPOTB.export('TPOT_population_prediction_best_model.py') # exporting the best model to a Python script\n",
    "modelTPOTB.fitted_pipeline_ # checking the details of the fitted pipeline"
   ]
  },
  {
   "cell_type": "markdown",
   "metadata": {
    "id": "xAI5E9-oaTeM"
   },
   "source": [
    "## Evaluation"
   ]
  },
  {
   "cell_type": "code",
   "execution_count": 45,
   "metadata": {
    "id": "BasKftSt1Fho"
   },
   "outputs": [],
   "source": [
    "# importing evaluation metrics\n",
    "from sklearn.metrics import mean_absolute_error, mean_squared_error, r2_score"
   ]
  },
  {
   "cell_type": "code",
   "execution_count": 46,
   "metadata": {
    "id": "tSmxj5aQ1E8g"
   },
   "outputs": [],
   "source": [
    "def evaluate(y_true, y_pred):\n",
    "  \"\"\"\n",
    "  Function to evaluate and display the evaluation metrics\n",
    "  \"\"\"\n",
    "  print(\"    RMSE: \", round(np.sqrt(mean_squared_error(y_true, y_pred)), 4))\n",
    "  print(\"     MAE: \", round(mean_absolute_error(y_true, y_pred), 4))\n",
    "  print(\"R2 Score: \", round(r2_score(y_true, y_pred), 4))\n"
   ]
  },
  {
   "cell_type": "code",
   "execution_count": 47,
   "metadata": {
    "colab": {
     "base_uri": "https://localhost:8080/"
    },
    "id": "jdmkH3nUnysS",
    "outputId": "dac0f336-6ca2-4624-b33d-bdb34d49cf87"
   },
   "outputs": [
    {
     "name": "stdout",
     "output_type": "stream",
     "text": [
      "Evaluation on Training Data\n",
      "    RMSE:  368271.0691\n",
      "     MAE:  92571.631\n",
      "R2 Score:  1.0\n",
      "\n",
      "Evaluation on Test Data\n",
      "    RMSE:  3124086.9994\n",
      "     MAE:  889171.1944\n",
      "R2 Score:  0.9995\n"
     ]
    }
   ],
   "source": [
    "print(\"Evaluation on Training Data\")\n",
    "evaluate(y_train, modelTPOTB.fitted_pipeline_.predict(X_train))\n",
    "\n",
    "print(\"\\nEvaluation on Test Data\")\n",
    "X_test, y_test = preprocess(test_data)\n",
    "evaluate(y_test, modelTPOTB.fitted_pipeline_.predict(X_test))"
   ]
  },
  {
   "cell_type": "code",
   "execution_count": 48,
   "metadata": {
    "colab": {
     "base_uri": "https://localhost:8080/"
    },
    "id": "v4H_Bfb1nyu-",
    "outputId": "ed76df12-da7c-46a2-fb8c-edbe67b7a008"
   },
   "outputs": [
    {
     "name": "stdout",
     "output_type": "stream",
     "text": [
      "Evaluation on Projected Data\n",
      "    RMSE:  5850718.289\n",
      "     MAE:  1696009.5154\n",
      "R2 Score:  0.9982\n"
     ]
    }
   ],
   "source": [
    "print(\"Evaluation on Projected Data\")\n",
    "X_projection, y_projection = preprocess(projection_data)\n",
    "evaluate(y_projection, modelTPOTB.fitted_pipeline_.predict(X_projection))"
   ]
  },
  {
   "cell_type": "code",
   "execution_count": 49,
   "metadata": {
    "colab": {
     "base_uri": "https://localhost:8080/"
    },
    "id": "6Y1nJGwFnyzy",
    "outputId": "2a3dc55a-1d55-44a3-ceb0-4d7b6dad7159"
   },
   "outputs": [
    {
     "data": {
      "text/plain": [
       "<bound method Pipeline.get_params of Pipeline(steps=[('stackingestimator',\n",
       "                 StackingEstimator(estimator=AdaBoostRegressor(learning_rate=0.01,\n",
       "                                                               loss='exponential',\n",
       "                                                               n_estimators=100,\n",
       "                                                               random_state=1))),\n",
       "                ('standardscaler', StandardScaler()),\n",
       "                ('extratreesregressor',\n",
       "                 ExtraTreesRegressor(max_features=0.7500000000000001,\n",
       "                                     min_samples_split=3, random_state=1))])>"
      ]
     },
     "execution_count": 49,
     "metadata": {},
     "output_type": "execute_result"
    }
   ],
   "source": [
    "# checking the parameters of the best model\n",
    "modelTPOTB.fitted_pipeline_.get_params"
   ]
  },
  {
   "cell_type": "markdown",
   "metadata": {
    "id": "eQ62wyzqaZKV"
   },
   "source": [
    "## Final Population Projections"
   ]
  },
  {
   "cell_type": "code",
   "execution_count": 54,
   "metadata": {
    "id": "V4toQjtf1xm1"
   },
   "outputs": [],
   "source": [
    "# to make predictions on the entire data\n",
    "X, y_true = preprocess(prediction_data.drop(['pred_population'], axis=1))\n",
    "y_pred = modelTPOTB.fitted_pipeline_.predict(X)"
   ]
  },
  {
   "cell_type": "code",
   "execution_count": 55,
   "metadata": {
    "colab": {
     "base_uri": "https://localhost:8080/"
    },
    "id": "2u0er37BLD5s",
    "outputId": "b896685e-37f5-439c-d3e0-334ef754b60c"
   },
   "outputs": [
    {
     "name": "stdout",
     "output_type": "stream",
     "text": [
      "    RMSE:  3505576.5653\n",
      "     MAE:  732922.909\n",
      "R2 Score:  0.9993\n"
     ]
    }
   ],
   "source": [
    "# evaluating the model's performance on the entire data\n",
    "evaluate(y_true, y_pred)"
   ]
  },
  {
   "cell_type": "code",
   "execution_count": 56,
   "metadata": {
    "id": "oFneL4NiLpNY"
   },
   "outputs": [],
   "source": [
    "# adding the predictions to the input dataframe & saving \n",
    "prediction_data['pred_population'] = y_pred\n",
    "prediction_data.to_excel('population_final_predictions1.xlsx', index=False) # storing "
   ]
  },
  {
   "cell_type": "code",
   "execution_count": 67,
   "metadata": {
    "colab": {
     "base_uri": "https://localhost:8080/",
     "height": 452
    },
    "id": "uWtOkyj_LjCY",
    "outputId": "0b543f07-fffc-4b99-95ce-ce7f0a266a35"
   },
   "outputs": [
    {
     "data": {
      "image/png": "[encoded data removed]",
      "text/plain": [
       "<Figure size 640x480 with 1 Axes>"
      ]
     },
     "metadata": {},
     "output_type": "display_data"
    }
   ],
   "source": [
    "import pandas as pd\n",
    "import matplotlib.pyplot as plt\n",
    "\n",
    "prediction_data = pd.read_excel('population_final_predictions1.xlsx')\n",
    "\n",
    "# Total trend in population projections over the globe\n",
    "df_ = prediction_data.groupby(['Year']).sum(numeric_only=True).reset_index()\n",
    "plt.plot(df_[df_['Year'].astype('int')<2023]['Year'], df_[df_['Year'].astype('int')<2023]['curr_population'], \n",
    "               marker='o', \n",
    "               alpha=0.5,\n",
    "               linestyle=':',\n",
    "               color='g',\n",
    "               label='Original Population')\n",
    "plt.plot(df_['Year'], df_['pred_population'], \n",
    "               marker='o', \n",
    "               alpha=0.5,\n",
    "               linestyle=':',\n",
    "               color='r',\n",
    "               label='Predicted Population')\n",
    "plt.legend()\n",
    "plt.title('Gobal Population')\n",
    "plt.show()"
   ]
  },
  {
   "cell_type": "markdown",
   "metadata": {
    "id": "sF7XMfg7mJ61"
   },
   "source": [
    "# Visualisation of Country-wise Population Trends\n",
    "\n",
    "**Run the following cell alone to display the output of the cell.**\n",
    "\n",
    "In the output cell, you can choose a country from the drop down menu to visualise the corresponding trend."
   ]
  },
  {
   "cell_type": "code",
   "execution_count": 2,
   "metadata": {
    "colab": {
     "base_uri": "https://localhost:8080/",
     "height": 712,
     "referenced_widgets": [
      "c2c66026ce9145749633f61774c03abf",
      "982740febede423d8bfe46ff90ae1bf0",
      "a68113ac886d40b3a0b5b94f7136d81f",
      "9594ee74b5cc43af8b0fc315ebcd60c0",
      "0f5585a157cc43cdab7e700ccecf5b8a",
      "1bf21b33ebd54710bf980007ac8959b9",
      "e38d9822401046ed898e94bbba35385d"
     ]
    },
    "id": "O1Z3N8-YL6sH",
    "outputId": "9c616e6d-c668-4790-87ec-100aba6da97f"
   },
   "outputs": [
    {
     "name": "stdout",
     "output_type": "stream",
     "text": [
      "Select a country to see the it's population growth trend.\n"
     ]
    },
    {
     "data": {
      "application/vnd.jupyter.widget-view+json": {
       "model_id": "b5891d8ffcb64ce68301f1d713fcc0e5",
       "version_major": 2,
       "version_minor": 0
      },
      "text/plain": [
       "interactive(children=(Dropdown(description='Country', options=('Afghanistan', 'Albania', 'Algeria', 'American …"
      ]
     },
     "metadata": {},
     "output_type": "display_data"
    }
   ],
   "source": [
    "import pandas as pd\n",
    "import matplotlib.pyplot as plt\n",
    "\n",
    "prediction_data = pd.read_excel('population_final_predictions1.xlsx')\n",
    "\n",
    "from ipywidgets import interact, Dropdown\n",
    "\n",
    "print(\"Select a country to see the it's population growth trend.\")\n",
    "\n",
    "areas = prediction_data['Country/Area Name'].unique()\n",
    "\n",
    "area_widget = Dropdown(options = areas)\n",
    "\n",
    "@interact(Country = area_widget)\n",
    "def display_country(Country):\n",
    "      df_ = prediction_data[prediction_data['Country/Area Name']==Country].groupby(['Year']).mean(numeric_only=True).reset_index()      \n",
    "      plt.plot(df_[df_['Year'].astype('int')<2023]['Year'], df_[df_['Year'].astype('int')<2023]['curr_population'], \n",
    "               marker='o', \n",
    "               alpha=0.5,\n",
    "               linestyle=':',\n",
    "               color='g',\n",
    "               label='Original Population')\n",
    "      plt.plot(df_['Year'], df_['pred_population'], \n",
    "               marker='o', \n",
    "               alpha=0.5,\n",
    "               linestyle=':',\n",
    "               color='r',\n",
    "               label='Predicted Population')\n",
    "      plt.legend()\n",
    "      plt.xlabel(\"Year\")\n",
    "      plt.ylabel('Population')\n",
    "      plt.title(f'Population over the years in {Country}')\n",
    "      plt.show()\n",
    "      print(df_[['Year', 'curr_population', 'pred_population']].head(10))\n"
   ]
  },
  {
   "cell_type": "markdown",
   "metadata": {},
   "source": [
    "## **Machine Learning Prediction & Outcomes**"
   ]
  },
  {
   "cell_type": "markdown",
   "metadata": {},
   "source": [
    "According to our research we expected to predict human population growth rate (PGR) using various ML models and compares the output accuracies against each others'. Countries' demographic data was obtained from United Nations database in which seven demographic features of a given area including its population, density, several mortality rates and life expectancies were available. The target (PGR) was made categorical (high, medium and low). We performed EDA on data and used regression method.\n",
    "\n",
    "As expected, the study's analyses on the data showed that PGR was proportional directly to mortality and fertility rates but inversely to popuation, density and life expectancy. Also, it concludes that tree-based methods have an upperhand on the accuracies on the test data.\n",
    "\n",
    "The research papers use different models based on different factors affecting population growth. There are many factors affecting population growth such as birth rate, death rate, migration, and population density, some based on demographic parameters and some on life expectancy.\n",
    "\n",
    "The research paper lets us know that the most important feature affecting the population growth is birth rate, death rate and migration. Equal percentage of these factors will not affect population growth but if any one factor increase or decreases, then it will result in population change. \n",
    "\n",
    "In our case we have human population, population density, life expectancy at birth, female life expectancy at birth, infant mortality rate, total fertility rate etc. And as discussed earlier tree-based methods works best.\n",
    "\n",
    "So, our expectations where matched using TPOT tool who predicted population growth which had human population, population density, life expectancy at birth, female life expectancy at birth, infant mortality rate, total fertility rate etc.\n",
    "\n",
    "TPOT met our expectations of  tree-based learners and thereby aided us in formulating our hypothesis to the problem.\n",
    "\n",
    "TPOT gives you the best model and works on decision tree\n",
    "\n"
   ]
  },
  {
   "cell_type": "markdown",
   "metadata": {},
   "source": [
    "## **Visualization & Documentation**"
   ]
  },
  {
   "cell_type": "markdown",
   "metadata": {},
   "source": [
    "We visualised trends in data by visualizing through bar graphs also the results from the model using Python's matplotlib library. We used line charts to plot the historic population and the projected data. It is available in the last cell of the Python Code section. One can select a country from the dropdown to visualise it's population trends. \n",
    "\n",
    "We trained data with increased generations and max_time_mins which resulted in a better performing model.\n",
    "\n",
    "\n",
    "We did not compare with our second assignment because that model was trained for less time and was not enough as per our expectations.So now we obtained a tree-based model which was expected from our research\n",
    "\n",
    "\n",
    "This is easy to understand but conveys the information well.\n",
    "\n",
    "\n",
    "Reference links for our projects:\n",
    "1) https://www.mdpi.com/1099-4300/23/6/656\n",
    "\n",
    "2)https://www.researchgate.net/publication/338656997_Comparative_Analysis_of_Different_Machine_Learning_Models_for_Estimating_the_Population_Growth_Rate_in_Data-Limited_Area\n",
    "\n",
    "3)https://ejmcm.com/article_7352.html\n",
    "\n",
    "4)https://www.kaggle.com/code/joshuaswords/awesome-eda-2021-happiness-population/notebook#I-am-still-adding-to-this-notebook---be-sure-to-check-back-soon\n",
    "\n",
    "**Data Source:** https://www.census.gov/\n",
    "\n",
    "\n"
   ]
  },
  {
   "cell_type": "markdown",
   "metadata": {},
   "source": [
    "## **Trailer Documentation**"
   ]
  },
  {
   "cell_type": "markdown",
   "metadata": {},
   "source": [
    "**Parth Maheshbhai Patel**\n",
    "Throughout the three assignments, I expanded my skill set in various domains such as feature engineering, data preparation, AutoML approaches, model selection and optimization, and model evaluation. To evaluate the accuracy of the models generated, I utilized metrics such as RMSE and R-squared and worked diligently to fine-tune these models to achieve the best possible scores. This process involved experimenting with various feature engineering and data preparation techniques, as well as using AutoML libraries like TPOT to automate parts of the model selection and optimization process. Overall, I gained practical experience working with these techniques and tools, enabling me to build more effective machine-learning models.\n",
    "\n",
    "**Meenakshi Krishnakumar**\n",
    "While developing a population prediction model, I utilized TPOT to automate the process of selecting the most appropriate algorithm, feature engineering techniques, and hyperparameter tuning. However, I also recognized the critical role that visualization plays in understanding and communicating the insights gained from the model. As a result, I devoted significant attention to improving the visualizations in this assignment. Going forward, I believe more in-depth analysis could be conducted through visualizations, such as exploring differences between regions or analyzing time trends. By effectively using visualization techniques, we can gain a more comprehensive understanding of the data and the predictions generated by the model.\n",
    "\n",
    "**Rami Dhungana K C**\n",
    "In my opinion, the research aspect was the most critical part of the assignment as it provided valuable insights into how similar solutions are implemented in real-world scenarios. Through this process, I gained a deeper understanding of the challenges involved in developing effective machine learning models, and the importance of selecting the most appropriate algorithm and hyperparameters for the given dataset.Additionally, I found TPOT to be a valuable tool that saves time by automating these processes, allowing us to focus on the more critical aspects of the project. Overall, I believe that this assignment provided an excellent opportunity to apply these techniques and gain practical experience working with them.\n",
    "\n",
    "**Akshaykumar Vijay Thakare**\n",
    "In this project, I utilized the TPOT tool to automate the machine learning pipeline and select the best model for predicting population growth.we obtained demographic data from the United Nations database, which included seven demographic features for a given area. Then we implemented exploratory data analysis (EDA), which helped to identify the most important features affecting population growth. Finally, we were able to implement machine learning model capable of accurately forecasting population growth rates.\n",
    "\n",
    "**Hamza Kadodia**\n",
    "In my opinion, the pipeline that I developed for predicting population growth was effective and successful. By following the above-mentioned steps, I was able to build a robust and reliable machine learning model that accurately forecasted population growth rates. The utilization of the TPOT tool to automate the machine learning pipeline significantly reduced the time required to select the best model.\n",
    "\n",
    "**Tharushika Jayawardena**\n",
    "\n",
    "I found this project to be both challenging and rewarding, and I am satisfied with the results that we achieved. The use of TPOT and other AutoML libraries greatly contributed to the success of our project. These tools allowed us to quickly develop an accurate model with minimal effort, which was a significant advantage in this project.I was particularly impressed with the accuracy of the model that we developed using the TPOT tool. It was straightforward to implement, and we were able to achieve excellent results with minimal effort.\n"
   ]
  }
 ],
 "metadata": {
  "colab": {
   "provenance": []
  },
  "kernelspec": {
   "display_name": "Python 3 (ipykernel)",
   "language": "python",
   "name": "python3"
  },
  "language_info": {
   "codemirror_mode": {
    "name": "ipython",
    "version": 3
   },
   "file_extension": ".py",
   "mimetype": "text/x-python",
   "name": "python",
   "nbconvert_exporter": "python",
   "pygments_lexer": "ipython3",
   "version": "3.9.12"
  },
  "vscode": {
   "interpreter": {
    "hash": "452b90bea1dc56bb7abd92e2828b74e7b1bfd708fd58372070ca854e487506c8"
   }
  },
  "widgets": {
   "application/vnd.jupyter.widget-state+json": {
    "03f0cd25f99b4c8c90ae1f2defda8560": {
     "model_module": "@jupyter-widgets/controls",
     "model_module_version": "1.5.0",
     "model_name": "ProgressStyleModel",
     "state": {
      "_model_module": "@jupyter-widgets/controls",
      "_model_module_version": "1.5.0",
      "_model_name": "ProgressStyleModel",
      "_view_count": null,
      "_view_module": "@jupyter-widgets/base",
      "_view_module_version": "1.2.0",
      "_view_name": "StyleView",
      "bar_color": null,
      "description_width": ""
     }
    },
    "070f030ff319416fbf383e95768b8335": {
     "model_module": "@jupyter-widgets/controls",
     "model_module_version": "1.5.0",
     "model_name": "DescriptionStyleModel",
     "state": {
      "_model_module": "@jupyter-widgets/controls",
      "_model_module_version": "1.5.0",
      "_model_name": "DescriptionStyleModel",
      "_view_count": null,
      "_view_module": "@jupyter-widgets/base",
      "_view_module_version": "1.2.0",
      "_view_name": "StyleView",
      "description_width": ""
     }
    },
    "0f5585a157cc43cdab7e700ccecf5b8a": {
     "model_module": "@jupyter-widgets/base",
     "model_module_version": "1.2.0",
     "model_name": "LayoutModel",
     "state": {
      "_model_module": "@jupyter-widgets/base",
      "_model_module_version": "1.2.0",
      "_model_name": "LayoutModel",
      "_view_count": null,
      "_view_module": "@jupyter-widgets/base",
      "_view_module_version": "1.2.0",
      "_view_name": "LayoutView",
      "align_content": null,
      "align_items": null,
      "align_self": null,
      "border": null,
      "bottom": null,
      "display": null,
      "flex": null,
      "flex_flow": null,
      "grid_area": null,
      "grid_auto_columns": null,
      "grid_auto_flow": null,
      "grid_auto_rows": null,
      "grid_column": null,
      "grid_gap": null,
      "grid_row": null,
      "grid_template_areas": null,
      "grid_template_columns": null,
      "grid_template_rows": null,
      "height": null,
      "justify_content": null,
      "justify_items": null,
      "left": null,
      "margin": null,
      "max_height": null,
      "max_width": null,
      "min_height": null,
      "min_width": null,
      "object_fit": null,
      "object_position": null,
      "order": null,
      "overflow": null,
      "overflow_x": null,
      "overflow_y": null,
      "padding": null,
      "right": null,
      "top": null,
      "visibility": null,
      "width": null
     }
    },
    "0fa19b76a5e543ae8a8915a724347361": {
     "model_module": "@jupyter-widgets/controls",
     "model_module_version": "1.5.0",
     "model_name": "HTMLModel",
     "state": {
      "_dom_classes": [],
      "_model_module": "@jupyter-widgets/controls",
      "_model_module_version": "1.5.0",
      "_model_name": "HTMLModel",
      "_view_count": null,
      "_view_module": "@jupyter-widgets/controls",
      "_view_module_version": "1.5.0",
      "_view_name": "HTMLView",
      "description": "",
      "description_tooltip": null,
      "layout": "IPY_MODEL_53506892c698439085cf5f92b13175a6",
      "placeholder": "​",
      "style": "IPY_MODEL_6b959c9026fb483cbb81ac5305dee264",
      "value": "Optimization Progress:  91%"
     }
    },
    "1bf21b33ebd54710bf980007ac8959b9": {
     "model_module": "@jupyter-widgets/controls",
     "model_module_version": "1.5.0",
     "model_name": "DescriptionStyleModel",
     "state": {
      "_model_module": "@jupyter-widgets/controls",
      "_model_module_version": "1.5.0",
      "_model_name": "DescriptionStyleModel",
      "_view_count": null,
      "_view_module": "@jupyter-widgets/base",
      "_view_module_version": "1.2.0",
      "_view_name": "StyleView",
      "description_width": ""
     }
    },
    "29a4e3be33914d70a4a3c047bcb9b373": {
     "model_module": "@jupyter-widgets/base",
     "model_module_version": "1.2.0",
     "model_name": "LayoutModel",
     "state": {
      "_model_module": "@jupyter-widgets/base",
      "_model_module_version": "1.2.0",
      "_model_name": "LayoutModel",
      "_view_count": null,
      "_view_module": "@jupyter-widgets/base",
      "_view_module_version": "1.2.0",
      "_view_name": "LayoutView",
      "align_content": null,
      "align_items": null,
      "align_self": null,
      "border": null,
      "bottom": null,
      "display": null,
      "flex": null,
      "flex_flow": null,
      "grid_area": null,
      "grid_auto_columns": null,
      "grid_auto_flow": null,
      "grid_auto_rows": null,
      "grid_column": null,
      "grid_gap": null,
      "grid_row": null,
      "grid_template_areas": null,
      "grid_template_columns": null,
      "grid_template_rows": null,
      "height": null,
      "justify_content": null,
      "justify_items": null,
      "left": null,
      "margin": null,
      "max_height": null,
      "max_width": null,
      "min_height": null,
      "min_width": null,
      "object_fit": null,
      "object_position": null,
      "order": null,
      "overflow": null,
      "overflow_x": null,
      "overflow_y": null,
      "padding": null,
      "right": null,
      "top": null,
      "visibility": null,
      "width": null
     }
    },
    "2a6763ac7dd34eb49c7efb4d574655f6": {
     "model_module": "@jupyter-widgets/controls",
     "model_module_version": "1.5.0",
     "model_name": "HTMLModel",
     "state": {
      "_dom_classes": [],
      "_model_module": "@jupyter-widgets/controls",
      "_model_module_version": "1.5.0",
      "_model_name": "HTMLModel",
      "_view_count": null,
      "_view_module": "@jupyter-widgets/controls",
      "_view_module_version": "1.5.0",
      "_view_name": "HTMLView",
      "description": "",
      "description_tooltip": null,
      "layout": "IPY_MODEL_29a4e3be33914d70a4a3c047bcb9b373",
      "placeholder": "​",
      "style": "IPY_MODEL_070f030ff319416fbf383e95768b8335",
      "value": " 820/900 [1:15:03&lt;06:45,  5.07s/pipeline]"
     }
    },
    "40c13a308ecd4e399f0f976380568815": {
     "model_module": "@jupyter-widgets/base",
     "model_module_version": "1.2.0",
     "model_name": "LayoutModel",
     "state": {
      "_model_module": "@jupyter-widgets/base",
      "_model_module_version": "1.2.0",
      "_model_name": "LayoutModel",
      "_view_count": null,
      "_view_module": "@jupyter-widgets/base",
      "_view_module_version": "1.2.0",
      "_view_name": "LayoutView",
      "align_content": null,
      "align_items": null,
      "align_self": null,
      "border": null,
      "bottom": null,
      "display": null,
      "flex": null,
      "flex_flow": null,
      "grid_area": null,
      "grid_auto_columns": null,
      "grid_auto_flow": null,
      "grid_auto_rows": null,
      "grid_column": null,
      "grid_gap": null,
      "grid_row": null,
      "grid_template_areas": null,
      "grid_template_columns": null,
      "grid_template_rows": null,
      "height": null,
      "justify_content": null,
      "justify_items": null,
      "left": null,
      "margin": null,
      "max_height": null,
      "max_width": null,
      "min_height": null,
      "min_width": null,
      "object_fit": null,
      "object_position": null,
      "order": null,
      "overflow": null,
      "overflow_x": null,
      "overflow_y": null,
      "padding": null,
      "right": null,
      "top": null,
      "visibility": null,
      "width": null
     }
    },
    "53506892c698439085cf5f92b13175a6": {
     "model_module": "@jupyter-widgets/base",
     "model_module_version": "1.2.0",
     "model_name": "LayoutModel",
     "state": {
      "_model_module": "@jupyter-widgets/base",
      "_model_module_version": "1.2.0",
      "_model_name": "LayoutModel",
      "_view_count": null,
      "_view_module": "@jupyter-widgets/base",
      "_view_module_version": "1.2.0",
      "_view_name": "LayoutView",
      "align_content": null,
      "align_items": null,
      "align_self": null,
      "border": null,
      "bottom": null,
      "display": null,
      "flex": null,
      "flex_flow": null,
      "grid_area": null,
      "grid_auto_columns": null,
      "grid_auto_flow": null,
      "grid_auto_rows": null,
      "grid_column": null,
      "grid_gap": null,
      "grid_row": null,
      "grid_template_areas": null,
      "grid_template_columns": null,
      "grid_template_rows": null,
      "height": null,
      "justify_content": null,
      "justify_items": null,
      "left": null,
      "margin": null,
      "max_height": null,
      "max_width": null,
      "min_height": null,
      "min_width": null,
      "object_fit": null,
      "object_position": null,
      "order": null,
      "overflow": null,
      "overflow_x": null,
      "overflow_y": null,
      "padding": null,
      "right": null,
      "top": null,
      "visibility": null,
      "width": null
     }
    },
    "65219a2158c344728155b6bcdf0c3a24": {
     "model_module": "@jupyter-widgets/base",
     "model_module_version": "1.2.0",
     "model_name": "LayoutModel",
     "state": {
      "_model_module": "@jupyter-widgets/base",
      "_model_module_version": "1.2.0",
      "_model_name": "LayoutModel",
      "_view_count": null,
      "_view_module": "@jupyter-widgets/base",
      "_view_module_version": "1.2.0",
      "_view_name": "LayoutView",
      "align_content": null,
      "align_items": null,
      "align_self": null,
      "border": null,
      "bottom": null,
      "display": null,
      "flex": null,
      "flex_flow": null,
      "grid_area": null,
      "grid_auto_columns": null,
      "grid_auto_flow": null,
      "grid_auto_rows": null,
      "grid_column": null,
      "grid_gap": null,
      "grid_row": null,
      "grid_template_areas": null,
      "grid_template_columns": null,
      "grid_template_rows": null,
      "height": null,
      "justify_content": null,
      "justify_items": null,
      "left": null,
      "margin": null,
      "max_height": null,
      "max_width": null,
      "min_height": null,
      "min_width": null,
      "object_fit": null,
      "object_position": null,
      "order": null,
      "overflow": null,
      "overflow_x": null,
      "overflow_y": null,
      "padding": null,
      "right": null,
      "top": null,
      "visibility": null,
      "width": null
     }
    },
    "6b959c9026fb483cbb81ac5305dee264": {
     "model_module": "@jupyter-widgets/controls",
     "model_module_version": "1.5.0",
     "model_name": "DescriptionStyleModel",
     "state": {
      "_model_module": "@jupyter-widgets/controls",
      "_model_module_version": "1.5.0",
      "_model_name": "DescriptionStyleModel",
      "_view_count": null,
      "_view_module": "@jupyter-widgets/base",
      "_view_module_version": "1.2.0",
      "_view_name": "StyleView",
      "description_width": ""
     }
    },
    "9594ee74b5cc43af8b0fc315ebcd60c0": {
     "model_module": "@jupyter-widgets/base",
     "model_module_version": "1.2.0",
     "model_name": "LayoutModel",
     "state": {
      "_model_module": "@jupyter-widgets/base",
      "_model_module_version": "1.2.0",
      "_model_name": "LayoutModel",
      "_view_count": null,
      "_view_module": "@jupyter-widgets/base",
      "_view_module_version": "1.2.0",
      "_view_name": "LayoutView",
      "align_content": null,
      "align_items": null,
      "align_self": null,
      "border": null,
      "bottom": null,
      "display": null,
      "flex": null,
      "flex_flow": null,
      "grid_area": null,
      "grid_auto_columns": null,
      "grid_auto_flow": null,
      "grid_auto_rows": null,
      "grid_column": null,
      "grid_gap": null,
      "grid_row": null,
      "grid_template_areas": null,
      "grid_template_columns": null,
      "grid_template_rows": null,
      "height": null,
      "justify_content": null,
      "justify_items": null,
      "left": null,
      "margin": null,
      "max_height": null,
      "max_width": null,
      "min_height": null,
      "min_width": null,
      "object_fit": null,
      "object_position": null,
      "order": null,
      "overflow": null,
      "overflow_x": null,
      "overflow_y": null,
      "padding": null,
      "right": null,
      "top": null,
      "visibility": null,
      "width": null
     }
    },
    "982740febede423d8bfe46ff90ae1bf0": {
     "model_module": "@jupyter-widgets/controls",
     "model_module_version": "1.5.0",
     "model_name": "DropdownModel",
     "state": {
      "_dom_classes": [],
      "_model_module": "@jupyter-widgets/controls",
      "_model_module_version": "1.5.0",
      "_model_name": "DropdownModel",
      "_options_labels": [
       "Afghanistan",
       "Albania",
       "Algeria",
       "American Samoa",
       "Andorra",
       "Angola",
       "Anguilla",
       "Antigua and Barbuda",
       "Argentina",
       "Armenia",
       "Aruba",
       "Australia",
       "Austria",
       "Azerbaijan",
       "Bahamas, The",
       "Bahrain",
       "Bangladesh",
       "Barbados",
       "Belarus",
       "Belgium",
       "Belize",
       "Benin",
       "Bermuda",
       "Bhutan",
       "Bolivia",
       "Bosnia and Herzegovina",
       "Botswana",
       "Brazil",
       "Brunei",
       "Bulgaria",
       "Burkina Faso",
       "Burma",
       "Burundi",
       "Cabo Verde",
       "Cambodia",
       "Cameroon",
       "Canada",
       "Cayman Islands",
       "Central African Republic",
       "Chad",
       "Chile",
       "China",
       "Colombia",
       "Comoros",
       "Congo (Brazzaville)",
       "Congo (Kinshasa)",
       "Cook Islands",
       "Costa Rica",
       "Croatia",
       "Cuba",
       "Curaçao",
       "Cyprus",
       "Czechia",
       "Côte d'Ivoire",
       "Denmark",
       "Djibouti",
       "Dominica",
       "Dominican Republic",
       "Ecuador",
       "Egypt",
       "El Salvador",
       "Equatorial Guinea",
       "Eritrea",
       "Estonia",
       "Eswatini",
       "Ethiopia",
       "Faroe Islands",
       "Fiji",
       "Finland",
       "France",
       "French Polynesia",
       "Gabon",
       "Gambia, The",
       "Gaza Strip",
       "Georgia",
       "Germany",
       "Ghana",
       "Gibraltar",
       "Greece",
       "Greenland",
       "Grenada",
       "Guam",
       "Guatemala",
       "Guernsey",
       "Guinea",
       "Guinea-Bissau",
       "Guyana",
       "Haiti",
       "Honduras",
       "Hong Kong",
       "Hungary",
       "Iceland",
       "India",
       "Indonesia",
       "Iran",
       "Iraq",
       "Ireland",
       "Isle of Man",
       "Israel",
       "Italy",
       "Jamaica",
       "Japan",
       "Jersey",
       "Jordan",
       "Kazakhstan",
       "Kenya",
       "Kiribati",
       "Korea, North",
       "Korea, South",
       "Kosovo",
       "Kuwait",
       "Kyrgyzstan",
       "Laos",
       "Latvia",
       "Lebanon",
       "Lesotho",
       "Liberia",
       "Libya",
       "Liechtenstein",
       "Lithuania",
       "Luxembourg",
       "Macau",
       "Madagascar",
       "Malawi",
       "Malaysia",
       "Maldives",
       "Mali",
       "Malta",
       "Marshall Islands",
       "Mauritania",
       "Mauritius",
       "Mexico",
       "Micronesia, Federated States of",
       "Moldova",
       "Monaco",
       "Mongolia",
       "Montenegro",
       "Montserrat",
       "Morocco",
       "Mozambique",
       "Namibia",
       "Nauru",
       "Nepal",
       "Netherlands",
       "New Caledonia",
       "New Zealand",
       "Nicaragua",
       "Niger",
       "Nigeria",
       "North Macedonia",
       "Northern Mariana Islands",
       "Norway",
       "Oman",
       "Pakistan",
       "Palau",
       "Panama",
       "Papua New Guinea",
       "Paraguay",
       "Peru",
       "Philippines",
       "Poland",
       "Portugal",
       "Puerto Rico",
       "Qatar",
       "Romania",
       "Russia",
       "Rwanda",
       "Saint Barthelemy",
       "Saint Helena, Ascension, and Tristan da Cunha",
       "Saint Kitts and Nevis",
       "Saint Lucia",
       "Saint Martin",
       "Saint Pierre and Miquelon",
       "Saint Vincent and the Grenadines",
       "Samoa",
       "San Marino",
       "Sao Tome and Principe",
       "Saudi Arabia",
       "Senegal",
       "Serbia",
       "Seychelles",
       "Sierra Leone",
       "Singapore",
       "Sint Maarten",
       "Slovakia",
       "Slovenia",
       "Solomon Islands",
       "Somalia",
       "South Africa",
       "South Sudan",
       "Spain",
       "Sri Lanka",
       "Sudan",
       "Suriname",
       "Sweden",
       "Switzerland",
       "Syria",
       "Taiwan",
       "Tajikistan",
       "Tanzania",
       "Thailand",
       "Timor-Leste",
       "Togo",
       "Tonga",
       "Trinidad and Tobago",
       "Tunisia",
       "Turkey",
       "Turkmenistan",
       "Turks and Caicos Islands",
       "Tuvalu",
       "Uganda",
       "Ukraine",
       "United Arab Emirates",
       "United Kingdom",
       "Uruguay",
       "Uzbekistan",
       "Vanuatu",
       "Venezuela",
       "Vietnam",
       "Virgin Islands, British",
       "Virgin Islands, U.S.",
       "Wallis and Futuna",
       "West Bank",
       "Yemen",
       "Zambia",
       "Zimbabwe"
      ],
      "_view_count": null,
      "_view_module": "@jupyter-widgets/controls",
      "_view_module_version": "1.5.0",
      "_view_name": "DropdownView",
      "description": "Country",
      "description_tooltip": null,
      "disabled": false,
      "index": 0,
      "layout": "IPY_MODEL_0f5585a157cc43cdab7e700ccecf5b8a",
      "style": "IPY_MODEL_1bf21b33ebd54710bf980007ac8959b9"
     }
    },
    "a68113ac886d40b3a0b5b94f7136d81f": {
     "model_module": "@jupyter-widgets/output",
     "model_module_version": "1.0.0",
     "model_name": "OutputModel",
     "state": {
      "_dom_classes": [],
      "_model_module": "@jupyter-widgets/output",
      "_model_module_version": "1.0.0",
      "_model_name": "OutputModel",
      "_view_count": null,
      "_view_module": "@jupyter-widgets/output",
      "_view_module_version": "1.0.0",
      "_view_name": "OutputView",
      "layout": "IPY_MODEL_e38d9822401046ed898e94bbba35385d",
      "msg_id": "",
      "outputs": [
       {
        "data": {
         "image/png": "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\n",
         "text/plain": "<Figure size 640x480 with 1 Axes>"
        },
        "metadata": {},
        "output_type": "display_data"
       },
       {
        "name": "stdout",
        "output_type": "stream",
        "text": [
         "   Year  curr_population  pred_population\n",
         "0  2016       33310667.0     3.366101e+07\n",
         "1  2017       34097944.0     3.379213e+07\n",
         "2  2018       34907481.0     3.500860e+07\n",
         "3  2019       35739709.0     3.584631e+07\n",
         "4  2020       36594776.0     3.634253e+07\n",
         "5  2021       37466414.0     3.614496e+07\n",
         "6  2022       38346720.0     3.574214e+07\n",
         "7  2023       39232003.0     3.484199e+07\n",
         "8  2024       40121552.0     3.565734e+07\n",
         "9  2025       41014912.0     3.586998e+07\n"
        ]
       }
      ]
     }
    },
    "b56af8c3091b43e793205b05eabd44a2": {
     "model_module": "@jupyter-widgets/controls",
     "model_module_version": "1.5.0",
     "model_name": "FloatProgressModel",
     "state": {
      "_dom_classes": [],
      "_model_module": "@jupyter-widgets/controls",
      "_model_module_version": "1.5.0",
      "_model_name": "FloatProgressModel",
      "_view_count": null,
      "_view_module": "@jupyter-widgets/controls",
      "_view_module_version": "1.5.0",
      "_view_name": "ProgressView",
      "bar_style": "danger",
      "description": "",
      "description_tooltip": null,
      "layout": "IPY_MODEL_40c13a308ecd4e399f0f976380568815",
      "max": 100,
      "min": 0,
      "orientation": "horizontal",
      "style": "IPY_MODEL_03f0cd25f99b4c8c90ae1f2defda8560",
      "value": 100
     }
    },
    "c2c66026ce9145749633f61774c03abf": {
     "model_module": "@jupyter-widgets/controls",
     "model_module_version": "1.5.0",
     "model_name": "VBoxModel",
     "state": {
      "_dom_classes": [
       "widget-interact"
      ],
      "_model_module": "@jupyter-widgets/controls",
      "_model_module_version": "1.5.0",
      "_model_name": "VBoxModel",
      "_view_count": null,
      "_view_module": "@jupyter-widgets/controls",
      "_view_module_version": "1.5.0",
      "_view_name": "VBoxView",
      "box_style": "",
      "children": [
       "IPY_MODEL_982740febede423d8bfe46ff90ae1bf0",
       "IPY_MODEL_a68113ac886d40b3a0b5b94f7136d81f"
      ],
      "layout": "IPY_MODEL_9594ee74b5cc43af8b0fc315ebcd60c0"
     }
    },
    "e148da14f1d04834a5920e1afed75175": {
     "model_module": "@jupyter-widgets/controls",
     "model_module_version": "1.5.0",
     "model_name": "HBoxModel",
     "state": {
      "_dom_classes": [],
      "_model_module": "@jupyter-widgets/controls",
      "_model_module_version": "1.5.0",
      "_model_name": "HBoxModel",
      "_view_count": null,
      "_view_module": "@jupyter-widgets/controls",
      "_view_module_version": "1.5.0",
      "_view_name": "HBoxView",
      "box_style": "",
      "children": [
       "IPY_MODEL_0fa19b76a5e543ae8a8915a724347361",
       "IPY_MODEL_b56af8c3091b43e793205b05eabd44a2",
       "IPY_MODEL_2a6763ac7dd34eb49c7efb4d574655f6"
      ],
      "layout": "IPY_MODEL_65219a2158c344728155b6bcdf0c3a24"
     }
    },
    "e38d9822401046ed898e94bbba35385d": {
     "model_module": "@jupyter-widgets/base",
     "model_module_version": "1.2.0",
     "model_name": "LayoutModel",
     "state": {
      "_model_module": "@jupyter-widgets/base",
      "_model_module_version": "1.2.0",
      "_model_name": "LayoutModel",
      "_view_count": null,
      "_view_module": "@jupyter-widgets/base",
      "_view_module_version": "1.2.0",
      "_view_name": "LayoutView",
      "align_content": null,
      "align_items": null,
      "align_self": null,
      "border": null,
      "bottom": null,
      "display": null,
      "flex": null,
      "flex_flow": null,
      "grid_area": null,
      "grid_auto_columns": null,
      "grid_auto_flow": null,
      "grid_auto_rows": null,
      "grid_column": null,
      "grid_gap": null,
      "grid_row": null,
      "grid_template_areas": null,
      "grid_template_columns": null,
      "grid_template_rows": null,
      "height": null,
      "justify_content": null,
      "justify_items": null,
      "left": null,
      "margin": null,
      "max_height": null,
      "max_width": null,
      "min_height": null,
      "min_width": null,
      "object_fit": null,
      "object_position": null,
      "order": null,
      "overflow": null,
      "overflow_x": null,
      "overflow_y": null,
      "padding": null,
      "right": null,
      "top": null,
      "visibility": null,
      "width": null
     }
    }
   }
  }
 },
 "nbformat": 4,
 "nbformat_minor": 1
}
